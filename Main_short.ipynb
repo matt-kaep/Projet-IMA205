{
 "cells": [
  {
   "cell_type": "code",
   "execution_count": 1,
   "metadata": {},
   "outputs": [
    {
     "name": "stderr",
     "output_type": "stream",
     "text": [
      "2024-04-25 10:23:48.918538: I tensorflow/core/platform/cpu_feature_guard.cc:210] This TensorFlow binary is optimized to use available CPU instructions in performance-critical operations.\n",
      "To enable the following instructions: AVX2 FMA, in other operations, rebuild TensorFlow with the appropriate compiler flags.\n"
     ]
    }
   ],
   "source": [
    "import matplotlib.pyplot as plt\n",
    "import numpy as np\n",
    "import pandas as pd\n",
    "from skimage import io\n",
    "import cv2 as cv\n",
    "import os\n",
    "import DarkArtefactRemoval as dca\n",
    "import dullrazor as dr\n",
    "import segmentation_and_preprocessing as sp\n",
    "from tqdm import tqdm\n",
    "from sklearn.model_selection import train_test_split\n",
    "import tensorflow as tf\n",
    "from tensorflow.keras import layers, models\n",
    "import csv\n",
    "import torch\n",
    "import torch.nn as nn\n",
    "import torch.nn.functional as F\n",
    "import torch.optim as optim\n",
    "import torchvision.datasets as datasets\n",
    "import torchvision.transforms as transforms"
   ]
  },
  {
   "cell_type": "markdown",
   "metadata": {},
   "source": [
    "# Loading Data"
   ]
  },
  {
   "cell_type": "code",
   "execution_count": 5,
   "metadata": {},
   "outputs": [],
   "source": [
    "# Répertoire contenant les images\n",
    "image_dir_train = 'Train/Train/'\n",
    "image_dir_test = 'Test/Test/'\n",
    "\n",
    "Train_path = image_dir_train\n",
    "\n",
    "import glob\n",
    "images_train = glob.glob(Train_path + '/*[0-9].jpg')\n",
    "mask_img_train = glob.glob(Train_path + '/*seg.png')\n",
    "\n",
    "images_with_mask = [ Train_path + mask_img_train[i].split('/')[-1].split('_seg')[0] + '.jpg' for i in range(len(mask_img_train))]\n",
    "images_test = glob.glob(image_dir_test + '/*[0-9].jpg')\n",
    "mask_img_test = glob.glob(image_dir_test + '/*seg.png')\n",
    "\n",
    "#Lire le csv metadataTrain et metadataTest\n",
    "metadataTrain = pd.read_csv('metadataTrain.csv')\n",
    "metadataTest = pd.read_csv('metadataTest.csv')\n",
    "\n"
   ]
  },
  {
   "cell_type": "code",
   "execution_count": 6,
   "metadata": {},
   "outputs": [
    {
     "name": "stdout",
     "output_type": "stream",
     "text": [
      "There are 18998 train images\n",
      "There are 1945 train images with mask\n",
      "There are 1945 train masks\n",
      "There are 6333 test images\n",
      "There are 648 test masks\n"
     ]
    }
   ],
   "source": [
    "# Checking if the number of images is right \n",
    "print('There are', len(images_train),  'train images')\n",
    "print('There are', len(images_with_mask),  'train images with mask')\n",
    "print('There are', len(mask_img_train),  'train masks')\n",
    "print('There are', len(images_test),  'test images')\n",
    "print('There are', len(mask_img_test),  'test masks')"
   ]
  },
  {
   "cell_type": "markdown",
   "metadata": {},
   "source": [
    "### Compute the segmentation mask for all the 20 000 images of the training set"
   ]
  },
  {
   "cell_type": "code",
   "execution_count": 4,
   "metadata": {},
   "outputs": [
    {
     "name": "stderr",
     "output_type": "stream",
     "text": [
      "  1%|          | 105/9499 [00:20<29:52,  5.24it/s] \n"
     ]
    },
    {
     "ename": "KeyboardInterrupt",
     "evalue": "",
     "output_type": "error",
     "traceback": [
      "\u001b[0;31m---------------------------------------------------------------------------\u001b[0m",
      "\u001b[0;31mKeyboardInterrupt\u001b[0m                         Traceback (most recent call last)",
      "Cell \u001b[0;32mIn[4], line 1\u001b[0m\n\u001b[0;32m----> 1\u001b[0m \u001b[43msp\u001b[49m\u001b[38;5;241;43m.\u001b[39;49m\u001b[43mcompute_and_save_segmented_lesions\u001b[49m\u001b[43m(\u001b[49m\u001b[43mimages_train\u001b[49m\u001b[43m[\u001b[49m\u001b[43m:\u001b[49m\u001b[38;5;28;43mlen\u001b[39;49m\u001b[43m(\u001b[49m\u001b[43mimages_train\u001b[49m\u001b[43m)\u001b[49m\u001b[38;5;241;43m/\u001b[39;49m\u001b[38;5;241;43m/\u001b[39;49m\u001b[38;5;241;43m2\u001b[39;49m\u001b[43m]\u001b[49m\u001b[43m,\u001b[49m\u001b[43m \u001b[49m\u001b[38;5;124;43m'\u001b[39;49m\u001b[38;5;124;43moutput_masks_train_set_1\u001b[39;49m\u001b[38;5;124;43m'\u001b[39;49m\u001b[43m)\u001b[49m\n",
      "File \u001b[0;32m~/Git/Projet-IMA205/segmentation_and_preprocessing.py:202\u001b[0m, in \u001b[0;36mcompute_and_save_segmented_lesions\u001b[0;34m(liste_chemins_images, output_dir)\u001b[0m\n\u001b[1;32m    200\u001b[0m \u001b[38;5;28;01mfor\u001b[39;00m i \u001b[38;5;129;01min\u001b[39;00m tqdm(\u001b[38;5;28mrange\u001b[39m(\u001b[38;5;241m0\u001b[39m, \u001b[38;5;28mlen\u001b[39m(liste_chemins_images))):\n\u001b[1;32m    201\u001b[0m     image \u001b[38;5;241m=\u001b[39m io\u001b[38;5;241m.\u001b[39mimread(liste_chemins_images[i])\n\u001b[0;32m--> 202\u001b[0m     mask_pred \u001b[38;5;241m=\u001b[39m \u001b[43mcompute_segmentation\u001b[49m\u001b[43m(\u001b[49m\u001b[43mliste_chemins_images\u001b[49m\u001b[43m[\u001b[49m\u001b[43mi\u001b[49m\u001b[43m]\u001b[49m\u001b[43m)\u001b[49m\n\u001b[1;32m    203\u001b[0m     \u001b[38;5;66;03m#normaliser les masks\u001b[39;00m\n\u001b[1;32m    204\u001b[0m     mask_pred_normalized \u001b[38;5;241m=\u001b[39m np\u001b[38;5;241m.\u001b[39marray(mask_pred\u001b[38;5;241m.\u001b[39mastype(\u001b[38;5;28mfloat\u001b[39m) \u001b[38;5;241m/\u001b[39m mask_pred\u001b[38;5;241m.\u001b[39mmax())\u001b[38;5;241m.\u001b[39mastype(\u001b[38;5;28mint\u001b[39m)\n",
      "File \u001b[0;32m~/Git/Projet-IMA205/segmentation_and_preprocessing.py:136\u001b[0m, in \u001b[0;36mcompute_segmentation\u001b[0;34m(image_path)\u001b[0m\n\u001b[1;32m    134\u001b[0m \u001b[38;5;28;01mdef\u001b[39;00m \u001b[38;5;21mcompute_segmentation\u001b[39m(image_path):\n\u001b[1;32m    135\u001b[0m     image \u001b[38;5;241m=\u001b[39m io\u001b[38;5;241m.\u001b[39mimread(image_path)\n\u001b[0;32m--> 136\u001b[0m     image_cleaned \u001b[38;5;241m=\u001b[39m \u001b[43mdr\u001b[49m\u001b[38;5;241;43m.\u001b[39;49m\u001b[43mdullrazor\u001b[49m\u001b[43m(\u001b[49m\u001b[43mimage\u001b[49m\u001b[43m)\u001b[49m\n\u001b[1;32m    137\u001b[0m     image_cleaned_rgb \u001b[38;5;241m=\u001b[39m cv\u001b[38;5;241m.\u001b[39mcvtColor(image_cleaned, cv\u001b[38;5;241m.\u001b[39mCOLOR_BGR2RGB)  \u001b[38;5;66;03m# Convertir en RGB avant d'afficher\u001b[39;00m\n\u001b[1;32m    138\u001b[0m     inpainted_image,dca_mask \u001b[38;5;241m=\u001b[39m inpainting_dca(image_cleaned_rgb)\n",
      "File \u001b[0;32m~/Git/Projet-IMA205/dullrazor.py:17\u001b[0m, in \u001b[0;36mdullrazor\u001b[0;34m(image)\u001b[0m\n\u001b[1;32m     15\u001b[0m ret, mask \u001b[38;5;241m=\u001b[39m cv2\u001b[38;5;241m.\u001b[39mthreshold(bhg, \u001b[38;5;241m10\u001b[39m, \u001b[38;5;241m255\u001b[39m, cv2\u001b[38;5;241m.\u001b[39mTHRESH_BINARY)\n\u001b[1;32m     16\u001b[0m \u001b[38;5;66;03m#Replace pixels of the mask\u001b[39;00m\n\u001b[0;32m---> 17\u001b[0m dst \u001b[38;5;241m=\u001b[39m \u001b[43mcv2\u001b[49m\u001b[38;5;241;43m.\u001b[39;49m\u001b[43minpaint\u001b[49m\u001b[43m(\u001b[49m\u001b[43mimage\u001b[49m\u001b[43m,\u001b[49m\u001b[43m \u001b[49m\u001b[43mmask\u001b[49m\u001b[43m,\u001b[49m\u001b[43m \u001b[49m\u001b[38;5;241;43m6\u001b[39;49m\u001b[43m,\u001b[49m\u001b[43m \u001b[49m\u001b[43mcv2\u001b[49m\u001b[38;5;241;43m.\u001b[39;49m\u001b[43mINPAINT_TELEA\u001b[49m\u001b[43m)\u001b[49m  \n\u001b[1;32m     18\u001b[0m dst \u001b[38;5;241m=\u001b[39m cv2\u001b[38;5;241m.\u001b[39mcvtColor(dst, cv2\u001b[38;5;241m.\u001b[39mCOLOR_BGR2RGB) \n\u001b[1;32m     19\u001b[0m \u001b[38;5;28;01mreturn\u001b[39;00m dst\n",
      "\u001b[0;31mKeyboardInterrupt\u001b[0m: "
     ]
    }
   ],
   "source": [
    "sp.compute_and_save_segmented_lesions(images_train[:len(images_train)//2], 'output_masks_train_set_1')"
   ]
  },
  {
   "cell_type": "code",
   "execution_count": null,
   "metadata": {},
   "outputs": [
    {
     "ename": "",
     "evalue": "",
     "output_type": "error",
     "traceback": [
      "\u001b[1;31mLes cellules en cours d’exécution avec Python 3.9.18 nécessitent le package ipykernel.\n",
      "\u001b[1;31mExécutez la commande suivante pour installer 'ipykernel' dans l’environnement Python. \n",
      "\u001b[1;31mCommande : '/usr/bin/python3.9 -m pip install ipykernel -U --user --force-reinstall'"
     ]
    }
   ],
   "source": [
    "sp.compute_and_save_segmented_lesions(images_train[len(images_train)//2:], 'output_masks_train_set_1')"
   ]
  },
  {
   "cell_type": "code",
   "execution_count": 7,
   "metadata": {},
   "outputs": [
    {
     "name": "stdout",
     "output_type": "stream",
     "text": [
      "18998\n"
     ]
    }
   ],
   "source": [
    "images_train_mask = glob.glob('output_masks_train_set_1' + '/*.png')\n",
    "print(len(images_train_mask))"
   ]
  },
  {
   "cell_type": "markdown",
   "metadata": {},
   "source": [
    "# CNN"
   ]
  },
  {
   "cell_type": "markdown",
   "metadata": {},
   "source": [
    "### Préparation des données\n",
    "\n",
    "- Images carrées de 256x256\n",
    "- Normalisation des images\n",
    "- Augmentation des données"
   ]
  },
  {
   "cell_type": "markdown",
   "metadata": {},
   "source": [
    "### Prepare data for CNN"
   ]
  },
  {
   "cell_type": "code",
   "execution_count": 8,
   "metadata": {},
   "outputs": [],
   "source": [
    "X_train = glob.glob('output_masks_train_set_1/*.png')\n",
    "X_train_names = [os.path.basename(x).split('.jpg_pred_mask.png')[0] for x in X_train]\n",
    "\n",
    "# Get the names and classes as pandas Series\n",
    "names_series = metadataTrain[\"ID\"].loc[metadataTrain[\"ID\"].isin(X_train_names)]\n",
    "classes_series = metadataTrain[\"CLASS\"].loc[metadataTrain[\"ID\"].isin(X_train_names)]\n",
    "\n",
    "# Convert the pandas Series to lists\n",
    "names_list = names_series.tolist()\n",
    "classes_list = classes_series.tolist()\n",
    "\n",
    "X_train_ordered = []\n",
    "X_train_ordered_names = []\n",
    "for i in range(0, len(names_list)):\n",
    "    for j in range(0, len(X_train_names)):\n",
    "        if names_list[i] in X_train_names[j]:\n",
    "            X_train_ordered.append(X_train[j])\n",
    "            X_train_ordered_names.append(X_train_names[j])"
   ]
  },
  {
   "cell_type": "markdown",
   "metadata": {},
   "source": [
    "##### Train test split"
   ]
  },
  {
   "cell_type": "code",
   "execution_count": 9,
   "metadata": {},
   "outputs": [
    {
     "name": "stdout",
     "output_type": "stream",
     "text": [
      "(18998, 256, 256, 3)\n",
      "(18998,)\n"
     ]
    }
   ],
   "source": [
    "X_train = [io.imread(x) for x in X_train_ordered]\n",
    "X_train = np.array(X_train)\n",
    "y_train = classes_list\n",
    "y_train = np.array(y_train)\n",
    "#----------------------------------\n",
    "y_train = y_train - 1\n",
    "#----------------------------------\n",
    "print(X_train.shape)\n",
    "print(y_train.shape)\n",
    "\n",
    "#Créer la validation set\n",
    "X_train, X_val, y_train, y_val = train_test_split(X_train, y_train, test_size=0.2, random_state=50)"
   ]
  },
  {
   "cell_type": "markdown",
   "metadata": {},
   "source": [
    "# ATTENTION Y_train entre 1 et 8\n",
    "\n",
    "# Modification j'ajoute -1 pour le passer entre 0 et 7 pour le CNN\n",
    "\n",
    "# Ne pas oubliez de faire la démarche inverse après la prédiction"
   ]
  },
  {
   "cell_type": "code",
   "execution_count": 10,
   "metadata": {},
   "outputs": [],
   "source": [
    "class SegmentationDataset(torch.utils.data.Dataset):\n",
    "    def __init__(self, X, y, transform=None):\n",
    "        self.X = X\n",
    "        self.y = y\n",
    "        self.transform = transform\n",
    "\n",
    "    def __len__(self):\n",
    "        return len(self.X)\n",
    "\n",
    "    def __getitem__(self, idx):\n",
    "        image = self.X[idx]\n",
    "        label = self.y[idx]\n",
    "\n",
    "        if self.transform:\n",
    "            image = self.transform(image)\n",
    "\n",
    "        return image, label\n",
    "\n",
    "# Définir les transformations à appliquer aux images d'entraînement\n",
    "transform = transforms.Compose([\n",
    "    transforms.ToPILImage(),\n",
    "    transforms.RandomHorizontalFlip(),\n",
    "    transforms.RandomVerticalFlip(),\n",
    "    transforms.ToTensor(),\n",
    "    transforms.Normalize((0.5, 0.5, 0.5), (0.5, 0.5, 0.5)),\n",
    "])\n",
    "\n",
    "# Créer le jeu de données de segmentation\n",
    "train_dataset = SegmentationDataset(X_train, y_train, transform=transform)\n",
    "\n"
   ]
  },
  {
   "cell_type": "code",
   "execution_count": 13,
   "metadata": {},
   "outputs": [
    {
     "name": "stdout",
     "output_type": "stream",
     "text": [
      "device cuda:1\n"
     ]
    }
   ],
   "source": [
    "learning_rate = 0.01\n",
    "n_epochs = 25\n",
    "batch_size = 256\n",
    "nb_classes = 8\n",
    "\n",
    "nb_filters = 32         # number of convolutional filters to use\n",
    "kernel_size = (3, 3)    # convolution kernel size\n",
    "pool_size = (2, 2)      # size of pooling area for max pooling\n",
    "\n",
    "# --- Size of the successive layers\n",
    "n_h_0 = nb_channels = 3 #3 channels for RGB\n",
    "n_h_1 = nb_filters\n",
    "n_h_2 = nb_filters\n",
    "n_h_3 = nb_filters\n",
    "n_h_4 = nb_filters\n",
    "n_h_5 = nb_filters\n",
    "n_h_6 = nb_filters\n",
    "\n",
    "\n",
    "model = torch.nn.Sequential(nn.Conv2d(in_channels=n_h_0, out_channels=n_h_1, kernel_size=kernel_size, stride=(1, 1), padding='same'),\n",
    "                            nn.ReLU(),\n",
    "                            nn.Conv2d(in_channels=n_h_1, out_channels=n_h_2, kernel_size=kernel_size, stride=(1, 1), padding='same'),\n",
    "                            nn.ReLU(),\n",
    "                            nn.MaxPool2d(kernel_size = pool_size, stride= (2,2)),\n",
    "                            nn.Conv2d(in_channels=n_h_2, out_channels=n_h_3, kernel_size=kernel_size, stride=(1, 1), padding='same'),\n",
    "                            nn.ReLU(),\n",
    "                            nn.MaxPool2d(kernel_size = pool_size, stride= (2,2)),\n",
    "                            nn.Conv2d(in_channels=n_h_3, out_channels=n_h_4, kernel_size=kernel_size, stride=(1, 1), padding='same'),\n",
    "                            nn.ReLU(),\n",
    "                            nn.MaxPool2d(kernel_size = pool_size, stride= (2,2)),\n",
    "                            nn.Conv2d(in_channels=n_h_4, out_channels=n_h_5, kernel_size=kernel_size, stride=(1, 1), padding='same'),\n",
    "                            nn.ReLU(),\n",
    "                            nn.MaxPool2d(kernel_size = pool_size, stride= (2,2)),\n",
    "                            nn.Conv2d(in_channels=n_h_5, out_channels=n_h_6, kernel_size=kernel_size, stride=(1, 1), padding='same'),\n",
    "                            nn.ReLU(),\n",
    "                            nn.MaxPool2d(kernel_size = pool_size, stride= (2,2)),\n",
    "                            \n",
    "                            nn.Flatten(),\n",
    "                            nn.Linear(in_features = int(n_h_6 * 8* 8) , out_features = nb_classes))\n",
    "\n",
    "\n",
    "\n",
    "train_loader = torch.utils.data.DataLoader(train_dataset, batch_size=batch_size, shuffle=True)\n",
    "criterion = torch.nn.CrossEntropyLoss()\n",
    "optimizer = torch.optim.Adam(model.parameters(), lr=learning_rate)\n",
    "\n",
    "\n",
    "device = torch.device(\"cuda:1\" if torch.cuda.is_available() else \"cuda:0\" if torch.cuda.is_available() else \"cpu\")\n",
    "print('device',device)\n",
    "model = model.to(device)"
   ]
  },
  {
   "cell_type": "code",
   "execution_count": 11,
   "metadata": {},
   "outputs": [],
   "source": [
    "def cnn_accuracy(predict,labels):\n",
    "  accuracy = (predict == labels).sum()/(labels.shape[0])\n",
    "  return accuracy\n",
    "\n",
    "def vector_to_class(x):\n",
    "  y = torch.argmax(nn.Softmax(dim=1)(x),axis=1)\n",
    "  return y"
   ]
  },
  {
   "cell_type": "code",
   "execution_count": 14,
   "metadata": {},
   "outputs": [
    {
     "name": "stderr",
     "output_type": "stream",
     "text": [
      "100%|██████████| 60/60 [00:45<00:00,  1.32it/s]\n"
     ]
    },
    {
     "name": "stdout",
     "output_type": "stream",
     "text": [
      "Epoch:0 Train Loss:0.0061\n",
      "Accuracy:0.4882\n"
     ]
    },
    {
     "name": "stderr",
     "output_type": "stream",
     "text": [
      "100%|██████████| 60/60 [00:38<00:00,  1.55it/s]\n"
     ]
    },
    {
     "name": "stdout",
     "output_type": "stream",
     "text": [
      "Epoch:1 Train Loss:0.0058\n",
      "Accuracy:0.5071\n"
     ]
    },
    {
     "name": "stderr",
     "output_type": "stream",
     "text": [
      "100%|██████████| 60/60 [00:32<00:00,  1.87it/s]\n"
     ]
    },
    {
     "name": "stdout",
     "output_type": "stream",
     "text": [
      "Epoch:2 Train Loss:0.0057\n",
      "Accuracy:0.5071\n"
     ]
    },
    {
     "name": "stderr",
     "output_type": "stream",
     "text": [
      "100%|██████████| 60/60 [00:48<00:00,  1.25it/s]\n"
     ]
    },
    {
     "name": "stdout",
     "output_type": "stream",
     "text": [
      "Epoch:3 Train Loss:0.0057\n",
      "Accuracy:0.5071\n"
     ]
    },
    {
     "name": "stderr",
     "output_type": "stream",
     "text": [
      "100%|██████████| 60/60 [00:30<00:00,  1.97it/s]\n"
     ]
    },
    {
     "name": "stdout",
     "output_type": "stream",
     "text": [
      "Epoch:4 Train Loss:0.0057\n",
      "Accuracy:0.5071\n"
     ]
    },
    {
     "name": "stderr",
     "output_type": "stream",
     "text": [
      "100%|██████████| 60/60 [00:29<00:00,  2.01it/s]\n"
     ]
    },
    {
     "name": "stdout",
     "output_type": "stream",
     "text": [
      "Epoch:5 Train Loss:0.0057\n",
      "Accuracy:0.5071\n"
     ]
    },
    {
     "name": "stderr",
     "output_type": "stream",
     "text": [
      "100%|██████████| 60/60 [00:20<00:00,  2.87it/s]\n"
     ]
    },
    {
     "name": "stdout",
     "output_type": "stream",
     "text": [
      "Epoch:6 Train Loss:0.0057\n",
      "Accuracy:0.5071\n"
     ]
    },
    {
     "name": "stderr",
     "output_type": "stream",
     "text": [
      "100%|██████████| 60/60 [00:26<00:00,  2.27it/s]\n"
     ]
    },
    {
     "name": "stdout",
     "output_type": "stream",
     "text": [
      "Epoch:7 Train Loss:0.0057\n",
      "Accuracy:0.5071\n"
     ]
    },
    {
     "name": "stderr",
     "output_type": "stream",
     "text": [
      "100%|██████████| 60/60 [00:20<00:00,  2.88it/s]\n"
     ]
    },
    {
     "name": "stdout",
     "output_type": "stream",
     "text": [
      "Epoch:8 Train Loss:0.0057\n",
      "Accuracy:0.5071\n"
     ]
    },
    {
     "name": "stderr",
     "output_type": "stream",
     "text": [
      "100%|██████████| 60/60 [00:22<00:00,  2.71it/s]\n"
     ]
    },
    {
     "name": "stdout",
     "output_type": "stream",
     "text": [
      "Epoch:9 Train Loss:0.0057\n",
      "Accuracy:0.5071\n"
     ]
    },
    {
     "name": "stderr",
     "output_type": "stream",
     "text": [
      "100%|██████████| 60/60 [00:24<00:00,  2.41it/s]\n"
     ]
    },
    {
     "name": "stdout",
     "output_type": "stream",
     "text": [
      "Epoch:10 Train Loss:0.0057\n",
      "Accuracy:0.5071\n"
     ]
    },
    {
     "name": "stderr",
     "output_type": "stream",
     "text": [
      "100%|██████████| 60/60 [00:20<00:00,  2.86it/s]\n"
     ]
    },
    {
     "name": "stdout",
     "output_type": "stream",
     "text": [
      "Epoch:11 Train Loss:0.0057\n",
      "Accuracy:0.5071\n"
     ]
    },
    {
     "name": "stderr",
     "output_type": "stream",
     "text": [
      "100%|██████████| 60/60 [00:21<00:00,  2.83it/s]\n"
     ]
    },
    {
     "name": "stdout",
     "output_type": "stream",
     "text": [
      "Epoch:12 Train Loss:0.0057\n",
      "Accuracy:0.5071\n"
     ]
    },
    {
     "name": "stderr",
     "output_type": "stream",
     "text": [
      "100%|██████████| 60/60 [00:23<00:00,  2.57it/s]\n"
     ]
    },
    {
     "name": "stdout",
     "output_type": "stream",
     "text": [
      "Epoch:13 Train Loss:0.0057\n",
      "Accuracy:0.5071\n"
     ]
    },
    {
     "name": "stderr",
     "output_type": "stream",
     "text": [
      "100%|██████████| 60/60 [00:20<00:00,  2.89it/s]\n"
     ]
    },
    {
     "name": "stdout",
     "output_type": "stream",
     "text": [
      "Epoch:14 Train Loss:0.0057\n",
      "Accuracy:0.5071\n"
     ]
    },
    {
     "name": "stderr",
     "output_type": "stream",
     "text": [
      "100%|██████████| 60/60 [00:22<00:00,  2.66it/s]\n"
     ]
    },
    {
     "name": "stdout",
     "output_type": "stream",
     "text": [
      "Epoch:15 Train Loss:0.0057\n",
      "Accuracy:0.5071\n"
     ]
    },
    {
     "name": "stderr",
     "output_type": "stream",
     "text": [
      "100%|██████████| 60/60 [00:20<00:00,  2.98it/s]\n"
     ]
    },
    {
     "name": "stdout",
     "output_type": "stream",
     "text": [
      "Epoch:16 Train Loss:0.0057\n",
      "Accuracy:0.5071\n"
     ]
    },
    {
     "name": "stderr",
     "output_type": "stream",
     "text": [
      "100%|██████████| 60/60 [00:20<00:00,  2.99it/s]\n"
     ]
    },
    {
     "name": "stdout",
     "output_type": "stream",
     "text": [
      "Epoch:17 Train Loss:0.0057\n",
      "Accuracy:0.5071\n"
     ]
    },
    {
     "name": "stderr",
     "output_type": "stream",
     "text": [
      "100%|██████████| 60/60 [00:20<00:00,  2.91it/s]\n"
     ]
    },
    {
     "name": "stdout",
     "output_type": "stream",
     "text": [
      "Epoch:18 Train Loss:0.0057\n",
      "Accuracy:0.5071\n"
     ]
    },
    {
     "name": "stderr",
     "output_type": "stream",
     "text": [
      "100%|██████████| 60/60 [00:20<00:00,  2.99it/s]\n"
     ]
    },
    {
     "name": "stdout",
     "output_type": "stream",
     "text": [
      "Epoch:19 Train Loss:0.0057\n",
      "Accuracy:0.5071\n"
     ]
    },
    {
     "name": "stderr",
     "output_type": "stream",
     "text": [
      "100%|██████████| 60/60 [00:20<00:00,  2.96it/s]\n"
     ]
    },
    {
     "name": "stdout",
     "output_type": "stream",
     "text": [
      "Epoch:20 Train Loss:0.0057\n",
      "Accuracy:0.5071\n"
     ]
    },
    {
     "name": "stderr",
     "output_type": "stream",
     "text": [
      "100%|██████████| 60/60 [00:28<00:00,  2.09it/s]\n"
     ]
    },
    {
     "name": "stdout",
     "output_type": "stream",
     "text": [
      "Epoch:21 Train Loss:0.0057\n",
      "Accuracy:0.5071\n"
     ]
    },
    {
     "name": "stderr",
     "output_type": "stream",
     "text": [
      "100%|██████████| 60/60 [00:19<00:00,  3.05it/s]\n"
     ]
    },
    {
     "name": "stdout",
     "output_type": "stream",
     "text": [
      "Epoch:22 Train Loss:0.0057\n",
      "Accuracy:0.5071\n"
     ]
    },
    {
     "name": "stderr",
     "output_type": "stream",
     "text": [
      "100%|██████████| 60/60 [00:20<00:00,  2.89it/s]\n"
     ]
    },
    {
     "name": "stdout",
     "output_type": "stream",
     "text": [
      "Epoch:23 Train Loss:0.0057\n",
      "Accuracy:0.5071\n"
     ]
    },
    {
     "name": "stderr",
     "output_type": "stream",
     "text": [
      "100%|██████████| 60/60 [00:20<00:00,  2.92it/s]"
     ]
    },
    {
     "name": "stdout",
     "output_type": "stream",
     "text": [
      "Epoch:24 Train Loss:0.0057\n",
      "Accuracy:0.5071\n"
     ]
    },
    {
     "name": "stderr",
     "output_type": "stream",
     "text": [
      "\n"
     ]
    }
   ],
   "source": [
    "train_losses=[]\n",
    "valid_losses=[]\n",
    "\n",
    "for epoch in range(0,n_epochs):\n",
    "  train_loss=0.0\n",
    "  all_labels = []\n",
    "  all_predicted = []\n",
    "\n",
    "  for batch_idx, (imgs, labels) in enumerate(tqdm(train_loader)):\n",
    "\n",
    "    # pass the samples through the network\n",
    "    predict = model.forward(imgs.to(device))\n",
    "    # apply loss function\n",
    "    loss = criterion(predict, labels.to(device))\n",
    "    # set the gradients back to 0\n",
    "    optimizer.zero_grad()\n",
    "    # backpropagation\n",
    "    loss.backward()\n",
    "    # parameter update\n",
    "    optimizer.step()\n",
    "    # compute the train loss\n",
    "    train_loss += loss.item()\n",
    "    # store labels and class predictions\n",
    "    all_labels.extend(labels.tolist())\n",
    "    all_predicted.extend(vector_to_class(predict).tolist())\n",
    "\n",
    "    if epoch % 1 == 0:\n",
    "      torch.save(model.state_dict(), 'model_save/modele_epoch_{}.pth'.format(epoch))\n",
    "\n",
    "  print('Epoch:{} Train Loss:{:.4f}'.format(epoch,train_loss/len(train_loader.dataset)))\n",
    "\n",
    "  # calculate accuracy\n",
    "  print('Accuracy:{:.4f}'.format(cnn_accuracy(np.array(all_predicted),np.array(all_labels))))"
   ]
  },
  {
   "cell_type": "code",
   "execution_count": null,
   "metadata": {},
   "outputs": [],
   "source": []
  },
  {
   "cell_type": "markdown",
   "metadata": {},
   "source": [
    "### Heatmap"
   ]
  },
  {
   "cell_type": "code",
   "execution_count": 31,
   "metadata": {},
   "outputs": [
    {
     "name": "stdout",
     "output_type": "stream",
     "text": [
      "device cpu\n",
      "[1 1 1 ... 1 1 1]\n"
     ]
    },
    {
     "data": {
      "image/png": "[encoded data removed]",
      "text/plain": [
       "<Figure size 640x480 with 2 Axes>"
      ]
     },
     "metadata": {},
     "output_type": "display_data"
    }
   ],
   "source": [
    "from sklearn.metrics import confusion_matrix\n",
    "import seaborn as sns\n",
    "\n",
    "\n",
    "# Predict the classes for the validation set\n",
    "\n",
    "# Définir les transformations\n",
    "transform = transforms.Compose([\n",
    "    transforms.ToPILImage(),\n",
    "    transforms.RandomHorizontalFlip(),\n",
    "    transforms.RandomVerticalFlip(),\n",
    "    transforms.ToTensor(),\n",
    "    transforms.Normalize((0.5, 0.5, 0.5), (0.5, 0.5, 0.5))\n",
    "])\n",
    "\n",
    "# Appliquer les transformations à X_val\n",
    "X_val_transformed = [transform(img) for img in X_val]\n",
    "X_val_transformed = torch.stack(X_val_transformed)\n",
    "\n",
    "#load the model\n",
    "model.load_state_dict(torch.load('/home/infres/kaeppelin-22/Git/Projet-IMA205/model_save/modele_epoch_24.pth'))\n",
    "#device = torch.device(\"cuda:2\" if torch.cuda.is_available() else \"cpu\")\n",
    "device = torch.device(\"cpu\")\n",
    "print('device',device)\n",
    "model = model.to(device)\n",
    "\n",
    "# Prédire les classes pour le jeu de validation\n",
    "y_pred = model(X_val_transformed.to(device))\n",
    "y_pred = torch.argmax(y_pred, dim=1)\n",
    "y_pred = y_pred.numpy()\n",
    "\n",
    "print(y_pred)\n",
    "\n",
    "\n",
    "# Create a confusion matrix\n",
    "cm = confusion_matrix(y_val, y_pred)\n",
    "\n",
    "# Create a heatmap from the confusion matrix\n",
    "sns.heatmap(cm, annot=True, fmt=\"d\", cmap='Blues')\n",
    "\n",
    "# Labels, title and ticks\n",
    "plt.xlabel('Predicted')\n",
    "plt.ylabel('True')\n",
    "plt.title('Confusion Matrix')\n",
    "plt.xticks(range(8))\n",
    "plt.yticks(range(8))\n",
    "\n",
    "# Add class names to the x and y axis labels\n",
    "class_names = ['class_0', 'class_1', 'class_2', 'class_3', 'class_4', 'class_5', 'class_6', 'class_7'] # replace with your class names\n",
    "plt.xticks(range(8), class_names, rotation=45)\n",
    "plt.yticks(range(8), class_names)\n",
    "\n",
    "plt.show()\n"
   ]
  },
  {
   "cell_type": "code",
   "execution_count": 32,
   "metadata": {},
   "outputs": [
    {
     "data": {
      "image/png": "[encoded data removed]",
      "text/plain": [
       "<Figure size 800x800 with 64 Axes>"
      ]
     },
     "metadata": {},
     "output_type": "display_data"
    }
   ],
   "source": [
    "\n",
    "# Extraire les poids des filtres de la première couche de convolution\n",
    "filters = model[0].weight.data.cpu().numpy()\n",
    "\n",
    "# Calculer le nombre de filtres dans la première couche de convolution\n",
    "num_filters = filters.shape[0]\n",
    "\n",
    "# Créer une grille de sous-tracés pour afficher les filtres\n",
    "fig, axs = plt.subplots(nrows=8, ncols=8, figsize=(8, 8))\n",
    "\n",
    "# Parcourir tous les filtres et les afficher dans la grille de sous-tracés\n",
    "for i in range(num_filters):\n",
    "    ax = axs[i // 8, i % 8]\n",
    "    ax.imshow(filters[i, 0, :, :], cmap='gray')\n",
    "    ax.axis('off')\n",
    "\n",
    "plt.show()\n"
   ]
  },
  {
   "cell_type": "code",
   "execution_count": 33,
   "metadata": {},
   "outputs": [
    {
     "ename": "ModuleNotFoundError",
     "evalue": "No module named 'gradcam'",
     "output_type": "error",
     "traceback": [
      "\u001b[0;31m---------------------------------------------------------------------------\u001b[0m",
      "\u001b[0;31mModuleNotFoundError\u001b[0m                       Traceback (most recent call last)",
      "Cell \u001b[0;32mIn[33], line 2\u001b[0m\n\u001b[1;32m      1\u001b[0m \u001b[38;5;28;01mimport\u001b[39;00m \u001b[38;5;21;01mtorchvision\u001b[39;00m\u001b[38;5;21;01m.\u001b[39;00m\u001b[38;5;21;01mmodels\u001b[39;00m \u001b[38;5;28;01mas\u001b[39;00m \u001b[38;5;21;01mmodels\u001b[39;00m\n\u001b[0;32m----> 2\u001b[0m \u001b[38;5;28;01mfrom\u001b[39;00m \u001b[38;5;21;01mgradcam\u001b[39;00m \u001b[38;5;28;01mimport\u001b[39;00m GradCAM\n\u001b[1;32m      3\u001b[0m \u001b[38;5;28;01mfrom\u001b[39;00m \u001b[38;5;21;01mgradcam\u001b[39;00m\u001b[38;5;21;01m.\u001b[39;00m\u001b[38;5;21;01mutils\u001b[39;00m \u001b[38;5;28;01mimport\u001b[39;00m visualize_cam\n\u001b[1;32m      5\u001b[0m \u001b[38;5;66;03m# Charger une image à visualiser\u001b[39;00m\n",
      "\u001b[0;31mModuleNotFoundError\u001b[0m: No module named 'gradcam'"
     ]
    }
   ],
   "source": [
    "import torchvision.models as models\n",
    "from gradcam import GradCAM\n",
    "from gradcam.utils import visualize_cam\n",
    "\n",
    "# Charger une image à visualiser\n",
    "img = Image.open('path/to/image.jpg')\n",
    "\n",
    "# Transformer l'image en tenseur et l'ajouter à un lot\n",
    "transform = transforms.Compose([\n",
    "    transforms.Resize((32, 32)),\n",
    "    transforms.ToTensor(),\n",
    "    transforms.Normalize(mean=[0.4914, 0.4822, 0.4465], std=[0.2023, 0.1994, 0.2010]),\n",
    "])\n",
    "img_tensor = transform(img).unsqueeze(0)\n",
    "\n",
    "# Définir la classe cible pour la visualisation\n",
    "target_class = 3  # Remplacez par la classe cible souhaitée\n",
    "\n",
    "# Créer un objet GradCAM pour la dernière couche de convolution du modèle\n",
    "cam = GradCAM(model=model, target_layer=model[-2])\n",
    "\n",
    "# Calculer la carte de chaleur de grad-CAM pour la classe cible\n",
    "grayscale_cam = cam(input_tensor=img_tensor, targets=target_class)\n",
    "\n",
    "# Visualiser la carte de chaleur de grad-CAM superposée à l'image d'origine\n",
    "visualization = visualize_cam(img_tensor, grayscale_cam, use_rgb=True)\n",
    "\n",
    "plt.imshow(visualization)\n",
    "plt.show()\n"
   ]
  },
  {
   "cell_type": "markdown",
   "metadata": {},
   "source": [
    "## Préparation de la detection"
   ]
  },
  {
   "cell_type": "markdown",
   "metadata": {},
   "source": [
    "### Prepare data for predicting the test set"
   ]
  },
  {
   "cell_type": "code",
   "execution_count": null,
   "metadata": {},
   "outputs": [
    {
     "ename": "",
     "evalue": "",
     "output_type": "error",
     "traceback": [
      "\u001b[1;31mLes cellules en cours d’exécution avec Python 3.9.18 nécessitent le package ipykernel.\n",
      "\u001b[1;31mExécutez la commande suivante pour installer 'ipykernel' dans l’environnement Python. \n",
      "\u001b[1;31mCommande : '/usr/bin/python3.9 -m pip install ipykernel -U --user --force-reinstall'"
     ]
    }
   ],
   "source": [
    "X_test = glob.glob('output_masks_test_set/*.png')\n",
    "X_test_names = [os.path.basename(x).split('.jpg_pred_mask.png')[0] for x in X_test]\n",
    "\n",
    "X_test = [io.imread(x) for x in X_test]\n",
    "X_test = np.array(X_test)\n",
    "print(X_test.shape)"
   ]
  },
  {
   "cell_type": "code",
   "execution_count": null,
   "metadata": {},
   "outputs": [
    {
     "ename": "",
     "evalue": "",
     "output_type": "error",
     "traceback": [
      "\u001b[1;31mLes cellules en cours d’exécution avec Python 3.9.18 nécessitent le package ipykernel.\n",
      "\u001b[1;31mExécutez la commande suivante pour installer 'ipykernel' dans l’environnement Python. \n",
      "\u001b[1;31mCommande : '/usr/bin/python3.9 -m pip install ipykernel -U --user --force-reinstall'"
     ]
    }
   ],
   "source": [
    "predicted_classes = model.predict(X_test)"
   ]
  },
  {
   "cell_type": "code",
   "execution_count": null,
   "metadata": {},
   "outputs": [
    {
     "ename": "",
     "evalue": "",
     "output_type": "error",
     "traceback": [
      "\u001b[1;31mLes cellules en cours d’exécution avec Python 3.9.18 nécessitent le package ipykernel.\n",
      "\u001b[1;31mExécutez la commande suivante pour installer 'ipykernel' dans l’environnement Python. \n",
      "\u001b[1;31mCommande : '/usr/bin/python3.9 -m pip install ipykernel -U --user --force-reinstall'"
     ]
    }
   ],
   "source": [
    "print(predicted_classes.shape)\n",
    "print(predicted_classes)\n",
    "\n",
    "predicted_classes_final = [np.argmax(predicted_classes[i]) for i in range(0, len(predicted_classes))]\n",
    "\n",
    "print(predicted_classes_final)"
   ]
  },
  {
   "cell_type": "markdown",
   "metadata": {},
   "source": [
    "Ecrire les résultats predicted class dans un fichier csv de 2 colonnes avec 1 colonne avec le nom correspondant à la classe et 1 colonne correspondant à la classe prédite. Le séparateur est une virgule"
   ]
  },
  {
   "cell_type": "code",
   "execution_count": null,
   "metadata": {},
   "outputs": [
    {
     "ename": "",
     "evalue": "",
     "output_type": "error",
     "traceback": [
      "\u001b[1;31mLes cellules en cours d’exécution avec Python 3.9.18 nécessitent le package ipykernel.\n",
      "\u001b[1;31mExécutez la commande suivante pour installer 'ipykernel' dans l’environnement Python. \n",
      "\u001b[1;31mCommande : '/usr/bin/python3.9 -m pip install ipykernel -U --user --force-reinstall'"
     ]
    }
   ],
   "source": [
    "# Open the CSV file for writing\n",
    "with open('SampleSubmission2.csv', 'w', newline='') as csvfile:\n",
    "    writer = csv.writer(csvfile)\n",
    "    # Write the header row\n",
    "    writer.writerow(['ID', 'CLASS'])\n",
    "\n",
    "    # Write the predicted classes and image filenames to the CSV file\n",
    "    for i in range(len(predicted_classes)):\n",
    "        writer.writerow([X_test_names[i], predicted_classes_final[i]])"
   ]
  },
  {
   "cell_type": "code",
   "execution_count": null,
   "metadata": {},
   "outputs": [
    {
     "ename": "",
     "evalue": "",
     "output_type": "error",
     "traceback": [
      "\u001b[1;31mLes cellules en cours d’exécution avec Python 3.9.18 nécessitent le package ipykernel.\n",
      "\u001b[1;31mExécutez la commande suivante pour installer 'ipykernel' dans l’environnement Python. \n",
      "\u001b[1;31mCommande : '/usr/bin/python3.9 -m pip install ipykernel -U --user --force-reinstall'"
     ]
    }
   ],
   "source": []
  }
 ],
 "metadata": {
  "kernelspec": {
   "display_name": "base",
   "language": "python",
   "name": "python3"
  },
  "language_info": {
   "codemirror_mode": {
    "name": "ipython",
    "version": 3
   },
   "file_extension": ".py",
   "mimetype": "text/x-python",
   "name": "python",
   "nbconvert_exporter": "python",
   "pygments_lexer": "ipython3",
   "version": "3.10.12"
  }
 },
 "nbformat": 4,
 "nbformat_minor": 2
}
