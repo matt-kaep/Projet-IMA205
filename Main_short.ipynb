{
 "cells": [
  {
   "cell_type": "code",
   "execution_count": 3,
   "metadata": {},
   "outputs": [
    {
     "name": "stderr",
     "output_type": "stream",
     "text": [
      "2024-04-26 01:02:08.297476: I tensorflow/core/platform/cpu_feature_guard.cc:210] This TensorFlow binary is optimized to use available CPU instructions in performance-critical operations.\n",
      "To enable the following instructions: AVX2 FMA, in other operations, rebuild TensorFlow with the appropriate compiler flags.\n",
      "2024-04-26 01:02:12.019677: W tensorflow/compiler/tf2tensorrt/utils/py_utils.cc:38] TF-TRT Warning: Could not find TensorRT\n"
     ]
    }
   ],
   "source": [
    "import matplotlib.pyplot as plt\n",
    "import numpy as np\n",
    "import pandas as pd\n",
    "from skimage import io\n",
    "import cv2 as cv\n",
    "import os\n",
    "import DarkArtefactRemoval as dca\n",
    "import dullrazor as dr\n",
    "import segmentation_and_preprocessing as sp\n",
    "from tqdm import tqdm\n",
    "from sklearn.model_selection import train_test_split\n",
    "import tensorflow as tf\n",
    "from tensorflow.keras import layers, models\n",
    "import csv\n",
    "import torch\n",
    "import torch.nn as nn\n",
    "import torch.nn.functional as F\n",
    "import torch.optim as optim\n",
    "import torchvision.datasets as datasets\n",
    "import torchvision.transforms as transforms\n",
    "import gradcam_test as gc\n",
    "import vanilla_backprop as vb"
   ]
  },
  {
   "cell_type": "markdown",
   "metadata": {},
   "source": [
    "# Loading Data"
   ]
  },
  {
   "cell_type": "code",
   "execution_count": 4,
   "metadata": {},
   "outputs": [],
   "source": [
    "# Répertoire contenant les images\n",
    "image_dir_train = 'Train/Train/'\n",
    "image_dir_test = 'Test/Test/'\n",
    "\n",
    "Train_path = image_dir_train\n",
    "\n",
    "import glob\n",
    "images_train = glob.glob(Train_path + '/*[0-9].jpg')\n",
    "mask_img_train = glob.glob(Train_path + '/*seg.png')\n",
    "\n",
    "images_with_mask = [ Train_path + mask_img_train[i].split('/')[-1].split('_seg')[0] + '.jpg' for i in range(len(mask_img_train))]\n",
    "images_test = glob.glob(image_dir_test + '/*[0-9].jpg')\n",
    "mask_img_test = glob.glob(image_dir_test + '/*seg.png')\n",
    "\n",
    "#Lire le csv metadataTrain et metadataTest\n",
    "metadataTrain = pd.read_csv('metadataTrain.csv')\n",
    "metadataTest = pd.read_csv('metadataTest.csv')\n",
    "\n"
   ]
  },
  {
   "cell_type": "code",
   "execution_count": 5,
   "metadata": {},
   "outputs": [
    {
     "name": "stdout",
     "output_type": "stream",
     "text": [
      "There are 18998 train images\n",
      "There are 1945 train images with mask\n",
      "There are 1945 train masks\n",
      "There are 6333 test images\n",
      "There are 648 test masks\n"
     ]
    }
   ],
   "source": [
    "# Checking if the number of images is right \n",
    "print('There are', len(images_train),  'train images')\n",
    "print('There are', len(images_with_mask),  'train images with mask')\n",
    "print('There are', len(mask_img_train),  'train masks')\n",
    "print('There are', len(images_test),  'test images')\n",
    "print('There are', len(mask_img_test),  'test masks')"
   ]
  },
  {
   "cell_type": "markdown",
   "metadata": {},
   "source": [
    "### Compute the segmentation mask for all the 20 000 images of the training set"
   ]
  },
  {
   "cell_type": "code",
   "execution_count": null,
   "metadata": {},
   "outputs": [
    {
     "name": "stderr",
     "output_type": "stream",
     "text": [
      "  0%|          | 0/9499 [00:00<?, ?it/s]"
     ]
    },
    {
     "name": "stderr",
     "output_type": "stream",
     "text": [
      "  0%|          | 39/9499 [00:04<16:35,  9.50it/s]\n"
     ]
    },
    {
     "ename": "KeyboardInterrupt",
     "evalue": "",
     "output_type": "error",
     "traceback": [
      "\u001b[0;31m---------------------------------------------------------------------------\u001b[0m",
      "\u001b[0;31mKeyboardInterrupt\u001b[0m                         Traceback (most recent call last)",
      "Cell \u001b[0;32mIn[5], line 1\u001b[0m\n\u001b[0;32m----> 1\u001b[0m sp\u001b[38;5;241m.\u001b[39mcompute_and_save_segmented_lesions(images_train[:\u001b[38;5;28mlen\u001b[39m(images_train)\u001b[38;5;241m/\u001b[39m\u001b[38;5;241m/\u001b[39m\u001b[38;5;241m2\u001b[39m], \u001b[38;5;124m'\u001b[39m\u001b[38;5;124moutput_masks_train_set_1\u001b[39m\u001b[38;5;124m'\u001b[39m)\n",
      "File \u001b[0;32m~/Documents/4-TélécomParis/1-Cours/IMA/IMA-205/Projet-IMA205/segmentation_and_preprocessing.py:202\u001b[0m, in \u001b[0;36mcompute_and_save_segmented_lesions\u001b[0;34m(liste_chemins_images, output_dir)\u001b[0m\n\u001b[1;32m    200\u001b[0m \u001b[38;5;28;01mfor\u001b[39;00m i \u001b[38;5;129;01min\u001b[39;00m tqdm(\u001b[38;5;28mrange\u001b[39m(\u001b[38;5;241m0\u001b[39m, \u001b[38;5;28mlen\u001b[39m(liste_chemins_images))):\n\u001b[1;32m    201\u001b[0m     image \u001b[38;5;241m=\u001b[39m io\u001b[38;5;241m.\u001b[39mimread(liste_chemins_images[i])\n\u001b[0;32m--> 202\u001b[0m     mask_pred \u001b[38;5;241m=\u001b[39m compute_segmentation(liste_chemins_images[i])\n\u001b[1;32m    203\u001b[0m     \u001b[38;5;66;03m#normaliser les masks\u001b[39;00m\n\u001b[1;32m    204\u001b[0m     mask_pred_normalized \u001b[38;5;241m=\u001b[39m np\u001b[38;5;241m.\u001b[39marray(mask_pred\u001b[38;5;241m.\u001b[39mastype(\u001b[38;5;28mfloat\u001b[39m) \u001b[38;5;241m/\u001b[39m mask_pred\u001b[38;5;241m.\u001b[39mmax())\u001b[38;5;241m.\u001b[39mastype(\u001b[38;5;28mint\u001b[39m)\n",
      "File \u001b[0;32m~/Documents/4-TélécomParis/1-Cours/IMA/IMA-205/Projet-IMA205/segmentation_and_preprocessing.py:136\u001b[0m, in \u001b[0;36mcompute_segmentation\u001b[0;34m(image_path)\u001b[0m\n\u001b[1;32m    134\u001b[0m \u001b[38;5;28;01mdef\u001b[39;00m \u001b[38;5;21mcompute_segmentation\u001b[39m(image_path):\n\u001b[1;32m    135\u001b[0m     image \u001b[38;5;241m=\u001b[39m io\u001b[38;5;241m.\u001b[39mimread(image_path)\n\u001b[0;32m--> 136\u001b[0m     image_cleaned \u001b[38;5;241m=\u001b[39m dr\u001b[38;5;241m.\u001b[39mdullrazor(image)\n\u001b[1;32m    137\u001b[0m     image_cleaned_rgb \u001b[38;5;241m=\u001b[39m cv\u001b[38;5;241m.\u001b[39mcvtColor(image_cleaned, cv\u001b[38;5;241m.\u001b[39mCOLOR_BGR2RGB)  \u001b[38;5;66;03m# Convertir en RGB avant d'afficher\u001b[39;00m\n\u001b[1;32m    138\u001b[0m     inpainted_image,dca_mask \u001b[38;5;241m=\u001b[39m inpainting_dca(image_cleaned_rgb)\n",
      "File \u001b[0;32m~/Documents/4-TélécomParis/1-Cours/IMA/IMA-205/Projet-IMA205/dullrazor.py:17\u001b[0m, in \u001b[0;36mdullrazor\u001b[0;34m(image)\u001b[0m\n\u001b[1;32m     15\u001b[0m ret, mask \u001b[38;5;241m=\u001b[39m cv2\u001b[38;5;241m.\u001b[39mthreshold(bhg, \u001b[38;5;241m10\u001b[39m, \u001b[38;5;241m255\u001b[39m, cv2\u001b[38;5;241m.\u001b[39mTHRESH_BINARY)\n\u001b[1;32m     16\u001b[0m \u001b[38;5;66;03m#Replace pixels of the mask\u001b[39;00m\n\u001b[0;32m---> 17\u001b[0m dst \u001b[38;5;241m=\u001b[39m cv2\u001b[38;5;241m.\u001b[39minpaint(image, mask, \u001b[38;5;241m6\u001b[39m, cv2\u001b[38;5;241m.\u001b[39mINPAINT_TELEA)  \n\u001b[1;32m     18\u001b[0m dst \u001b[38;5;241m=\u001b[39m cv2\u001b[38;5;241m.\u001b[39mcvtColor(dst, cv2\u001b[38;5;241m.\u001b[39mCOLOR_BGR2RGB) \n\u001b[1;32m     19\u001b[0m \u001b[38;5;28;01mreturn\u001b[39;00m dst\n",
      "\u001b[0;31mKeyboardInterrupt\u001b[0m: "
     ]
    }
   ],
   "source": [
    "sp.compute_and_save_segmented_lesions(images_train[:len(images_train)//2], 'output_masks_train_set_1')"
   ]
  },
  {
   "cell_type": "code",
   "execution_count": null,
   "metadata": {},
   "outputs": [
    {
     "ename": "",
     "evalue": "",
     "output_type": "error",
     "traceback": [
      "\u001b[1;31mLes cellules en cours d’exécution avec Python 3.9.18 nécessitent le package ipykernel.\n",
      "\u001b[1;31mExécutez la commande suivante pour installer 'ipykernel' dans l’environnement Python. \n",
      "\u001b[1;31mCommande : '/usr/bin/python3.9 -m pip install ipykernel -U --user --force-reinstall'"
     ]
    }
   ],
   "source": [
    "sp.compute_and_save_segmented_lesions(images_train[len(images_train)//2:], 'output_masks_train_set_1')"
   ]
  },
  {
   "cell_type": "code",
   "execution_count": null,
   "metadata": {},
   "outputs": [
    {
     "name": "stdout",
     "output_type": "stream",
     "text": [
      "18998\n"
     ]
    }
   ],
   "source": [
    "images_train_mask = glob.glob('output_masks_train_set_1' + '/*.png')\n",
    "print(len(images_train_mask))"
   ]
  },
  {
   "cell_type": "markdown",
   "metadata": {},
   "source": [
    "# CNN"
   ]
  },
  {
   "cell_type": "markdown",
   "metadata": {},
   "source": [
    "### Préparation des données\n",
    "\n",
    "- Images carrées de 256x256\n",
    "- Normalisation des images\n",
    "- Augmentation des données"
   ]
  },
  {
   "cell_type": "markdown",
   "metadata": {},
   "source": [
    "### Prepare data for CNN"
   ]
  },
  {
   "cell_type": "code",
   "execution_count": 6,
   "metadata": {},
   "outputs": [],
   "source": [
    "X_train = glob.glob('output_masks_train_set_1/*.png')\n",
    "X_train_names = [os.path.basename(x).split('.jpg_pred_mask.png')[0] for x in X_train]\n",
    "\n",
    "# Get the names and classes as pandas Series\n",
    "names_series = metadataTrain[\"ID\"].loc[metadataTrain[\"ID\"].isin(X_train_names)]\n",
    "classes_series = metadataTrain[\"CLASS\"].loc[metadataTrain[\"ID\"].isin(X_train_names)]\n",
    "\n",
    "# Convert the pandas Series to lists\n",
    "names_list = names_series.tolist()\n",
    "classes_list = classes_series.tolist()\n",
    "\n",
    "X_train_ordered = []\n",
    "X_train_ordered_names = []\n",
    "for i in range(0, len(names_list)):\n",
    "    for j in range(0, len(X_train_names)):\n",
    "        if names_list[i] in X_train_names[j]:\n",
    "            X_train_ordered.append(X_train[j])\n",
    "            X_train_ordered_names.append(X_train_names[j])"
   ]
  },
  {
   "cell_type": "code",
   "execution_count": 7,
   "metadata": {},
   "outputs": [],
   "source": [
    "\n",
    "# Count the number of images in the second class\n",
    "count = sum([1 for cls in classes_list if cls == 2])\n",
    "\n",
    "# Divide the count by 2 to get the number of images to remove\n",
    "num_to_remove = count // 2\n",
    "\n",
    "# Create a new list to store the indices of the images to remove\n",
    "indices_to_remove = []\n",
    "\n",
    "# Iterate over the range of the length of X_train_ordered\n",
    "for i in range(len(X_train_ordered)):\n",
    "    # Check if the current image belongs to the second class and its index is less than the number of images to remove\n",
    "    if classes_list[i] == 2 and len(indices_to_remove) < num_to_remove:\n",
    "        # Append the index to the indices_to_remove list\n",
    "        indices_to_remove.append(i)\n",
    "\n",
    "# Create new lists for X_train_ordered, X_train_ordered_names, and classes_list by removing the indices stored in indices_to_remove\n",
    "X_train_ordered_2 = [x for i, x in enumerate(X_train_ordered) if i not in indices_to_remove]\n",
    "X_train_ordered_names_2 = [x for i, x in enumerate(X_train_ordered_names) if i not in indices_to_remove]\n",
    "classes_list_2 = [x for i, x in enumerate(classes_list) if i not in indices_to_remove]\n",
    "names_list_2 = [x for i, x in enumerate(names_list) if i not in indices_to_remove]\n"
   ]
  },
  {
   "cell_type": "markdown",
   "metadata": {},
   "source": [
    "##### Train test split"
   ]
  },
  {
   "cell_type": "code",
   "execution_count": 8,
   "metadata": {},
   "outputs": [
    {
     "name": "stdout",
     "output_type": "stream",
     "text": [
      "(18998, 256, 256, 3)\n",
      "(18998,)\n"
     ]
    }
   ],
   "source": [
    "X_train = [io.imread(x) for x in X_train_ordered]\n",
    "X_train = np.array(X_train)\n",
    "y_train = classes_list\n",
    "y_train = np.array(y_train)\n",
    "#----------------------------------\n",
    "y_train = y_train - 1\n",
    "#----------------------------------\n",
    "print(X_train.shape)\n",
    "print(y_train.shape)\n",
    "\n",
    "#Créer la validation set\n",
    "X_train, X_val, y_train, y_val = train_test_split(X_train, y_train, test_size=0.2, random_state=50)"
   ]
  },
  {
   "cell_type": "code",
   "execution_count": 9,
   "metadata": {},
   "outputs": [
    {
     "name": "stdout",
     "output_type": "stream",
     "text": [
      "(14170, 256, 256, 3)\n",
      "(14170,)\n"
     ]
    }
   ],
   "source": [
    "X_train_2 = [io.imread(x) for x in X_train_ordered_2]\n",
    "X_train_2 = np.array(X_train_2)\n",
    "y_train_2 = classes_list_2\n",
    "y_train_2 = np.array(y_train_2)\n",
    "#----------------------------------\n",
    "y_train_2 = y_train_2 - 1\n",
    "#----------------------------------\n",
    "print(X_train_2.shape)\n",
    "print(y_train_2.shape)\n",
    "\n",
    "#Créer la validation set\n",
    "X_train_2, X_val_2, y_trai_2, y_val_2 = train_test_split(X_train_2, y_train_2, test_size=0.2, random_state=50)"
   ]
  },
  {
   "cell_type": "code",
   "execution_count": 10,
   "metadata": {},
   "outputs": [
    {
     "data": {
      "text/plain": [
       "(array([2758., 7707., 1975.,    0.,  529., 1583.,    0.,  140.,  140.,\n",
       "         366.]),\n",
       " array([0. , 0.7, 1.4, 2.1, 2.8, 3.5, 4.2, 4.9, 5.6, 6.3, 7. ]),\n",
       " <BarContainer object of 10 artists>)"
      ]
     },
     "execution_count": 10,
     "metadata": {},
     "output_type": "execute_result"
    },
    {
     "data": {
      "image/png": "[encoded data removed]",
      "text/plain": [
       "<Figure size 640x480 with 1 Axes>"
      ]
     },
     "metadata": {},
     "output_type": "display_data"
    }
   ],
   "source": [
    "plt.hist(y_train)"
   ]
  },
  {
   "cell_type": "code",
   "execution_count": 11,
   "metadata": {},
   "outputs": [
    {
     "data": {
      "text/plain": [
       "(array([3391., 4829., 2492.,    0.,  650., 1968.,    0.,  179.,  190.,\n",
       "         471.]),\n",
       " array([0. , 0.7, 1.4, 2.1, 2.8, 3.5, 4.2, 4.9, 5.6, 6.3, 7. ]),\n",
       " <BarContainer object of 10 artists>)"
      ]
     },
     "execution_count": 11,
     "metadata": {},
     "output_type": "execute_result"
    },
    {
     "data": {
      "image/png": "[encoded data removed]",
      "text/plain": [
       "<Figure size 640x480 with 1 Axes>"
      ]
     },
     "metadata": {},
     "output_type": "display_data"
    }
   ],
   "source": [
    "plt.hist(y_train_2)"
   ]
  },
  {
   "cell_type": "markdown",
   "metadata": {},
   "source": [
    "# ATTENTION Y_train entre 1 et 8\n",
    "\n",
    "# Modification j'ajoute -1 pour le passer entre 0 et 7 pour le CNN\n",
    "\n",
    "# Ne pas oubliez de faire la démarche inverse après la prédiction"
   ]
  },
  {
   "cell_type": "code",
   "execution_count": 12,
   "metadata": {},
   "outputs": [],
   "source": [
    "class SegmentationDataset(torch.utils.data.Dataset):\n",
    "    def __init__(self, X, y, transform=None):\n",
    "        self.X = X\n",
    "        self.y = y\n",
    "        self.transform = transform\n",
    "\n",
    "    def __len__(self):\n",
    "        return len(self.X)\n",
    "\n",
    "    def __getitem__(self, idx):\n",
    "        image = self.X[idx]\n",
    "        label = self.y[idx]\n",
    "\n",
    "        if self.transform:\n",
    "            image = self.transform(image)\n",
    "\n",
    "        return image, label\n",
    "\n",
    "# Définir les transformations à appliquer aux images d'entraînement\n",
    "transform = transforms.Compose([\n",
    "    transforms.ToPILImage(),\n",
    "    transforms.RandomHorizontalFlip(),\n",
    "    transforms.RandomVerticalFlip(),\n",
    "    transforms.ToTensor(),\n",
    "    transforms.Normalize((0.5, 0.5, 0.5), (0.5, 0.5, 0.5)),\n",
    "])\n",
    "\n",
    "# Créer le jeu de données de segmentation\n",
    "train_dataset_1 = SegmentationDataset(X_train, y_train, transform=transform)\n",
    "train_dataset_2 = SegmentationDataset(X_train_2, y_train_2, transform=transform)\n",
    "train_dataset_3 = SegmentationDataset(X_train_2, y_train_2, transform=transform)\n"
   ]
  },
  {
   "cell_type": "code",
   "execution_count": 18,
   "metadata": {},
   "outputs": [],
   "source": [
    "def cnn_accuracy(predict,labels):\n",
    "  accuracy = (predict == labels).sum()/(labels.shape[0])\n",
    "  return accuracy\n",
    "\n",
    "def vector_to_class(x):\n",
    "  y = torch.argmax(nn.Softmax(dim=1)(x),axis=1)\n",
    "  return y"
   ]
  },
  {
   "cell_type": "code",
   "execution_count": 13,
   "metadata": {},
   "outputs": [
    {
     "name": "stdout",
     "output_type": "stream",
     "text": [
      "Sequential(\n",
      "  (0): Conv2d(3, 32, kernel_size=(3, 3), stride=(1, 1), padding=same)\n",
      "  (1): ReLU()\n",
      "  (2): Conv2d(32, 32, kernel_size=(3, 3), stride=(1, 1), padding=same)\n",
      "  (3): ReLU()\n",
      "  (4): MaxPool2d(kernel_size=(2, 2), stride=(2, 2), padding=0, dilation=1, ceil_mode=False)\n",
      "  (5): Conv2d(32, 32, kernel_size=(3, 3), stride=(1, 1), padding=same)\n",
      "  (6): ReLU()\n",
      "  (7): MaxPool2d(kernel_size=(2, 2), stride=(2, 2), padding=0, dilation=1, ceil_mode=False)\n",
      "  (8): Conv2d(32, 32, kernel_size=(3, 3), stride=(1, 1), padding=same)\n",
      "  (9): ReLU()\n",
      "  (10): MaxPool2d(kernel_size=(2, 2), stride=(2, 2), padding=0, dilation=1, ceil_mode=False)\n",
      "  (11): Conv2d(32, 32, kernel_size=(3, 3), stride=(1, 1), padding=same)\n",
      "  (12): ReLU()\n",
      "  (13): MaxPool2d(kernel_size=(2, 2), stride=(2, 2), padding=0, dilation=1, ceil_mode=False)\n",
      "  (14): Conv2d(32, 32, kernel_size=(3, 3), stride=(1, 1), padding=same)\n",
      "  (15): ReLU()\n",
      "  (16): MaxPool2d(kernel_size=(2, 2), stride=(2, 2), padding=0, dilation=1, ceil_mode=False)\n",
      "  (17): Flatten(start_dim=1, end_dim=-1)\n",
      "  (18): Linear(in_features=2048, out_features=8, bias=True)\n",
      ")\n",
      "device cuda:1\n"
     ]
    }
   ],
   "source": [
    "#MODEL 1\n",
    "learning_rate_1 = 0.01\n",
    "n_epochs_1 = 25\n",
    "batch_size = 256\n",
    "nb_classes = 8\n",
    "\n",
    "nb_filters_1 = 32         # number of convolutional filters to use\n",
    "kernel_size = (3, 3)    # convolution kernel size\n",
    "pool_size = (2, 2)      # size of pooling area for max pooling\n",
    "\n",
    "# --- Size of the successive layers\n",
    "n_h_0 = nb_channels = 3 #3 channels for RGB\n",
    "n_h_1 = nb_filters_1\n",
    "n_h_2 = nb_filters_1\n",
    "n_h_3 = nb_filters_1\n",
    "n_h_4 = nb_filters_1\n",
    "n_h_5 = nb_filters_1\n",
    "n_h_6 = nb_filters_1\n",
    "\n",
    "\n",
    "model_1 = torch.nn.Sequential(nn.Conv2d(in_channels=n_h_0, out_channels=n_h_1, kernel_size=kernel_size, stride=(1, 1), padding='same'),\n",
    "                            nn.ReLU(),\n",
    "                            nn.Conv2d(in_channels=n_h_1, out_channels=n_h_2, kernel_size=kernel_size, stride=(1, 1), padding='same'),\n",
    "                            nn.ReLU(),\n",
    "                            nn.MaxPool2d(kernel_size = pool_size, stride= (2,2)),\n",
    "                            nn.Conv2d(in_channels=n_h_2, out_channels=n_h_3, kernel_size=kernel_size, stride=(1, 1), padding='same'),\n",
    "                            nn.ReLU(),\n",
    "                            nn.MaxPool2d(kernel_size = pool_size, stride= (2,2)),\n",
    "                            nn.Conv2d(in_channels=n_h_3, out_channels=n_h_4, kernel_size=kernel_size, stride=(1, 1), padding='same'),\n",
    "                            nn.ReLU(),\n",
    "                            nn.MaxPool2d(kernel_size = pool_size, stride= (2,2)),\n",
    "                            nn.Conv2d(in_channels=n_h_4, out_channels=n_h_5, kernel_size=kernel_size, stride=(1, 1), padding='same'),\n",
    "                            nn.ReLU(),\n",
    "                            nn.MaxPool2d(kernel_size = pool_size, stride= (2,2)),\n",
    "                            nn.Conv2d(in_channels=n_h_5, out_channels=n_h_6, kernel_size=kernel_size, stride=(1, 1), padding='same'),\n",
    "                            nn.ReLU(),\n",
    "                            nn.MaxPool2d(kernel_size = pool_size, stride= (2,2)),\n",
    "                            \n",
    "                            nn.Flatten(),\n",
    "                            nn.Linear(in_features = int(n_h_6 * 8* 8) , out_features = nb_classes))\n",
    "\n",
    "\n",
    "\n",
    "train_loader_1 = torch.utils.data.DataLoader(train_dataset_1, batch_size=batch_size, shuffle=True)\n",
    "criterion_1 = torch.nn.CrossEntropyLoss()\n",
    "optimizer_1 = torch.optim.Adam(model_1.parameters(), lr=learning_rate_1)\n",
    "\n",
    "#print model summary\n",
    "print(model_1)\n",
    "\n",
    "\n",
    "device = torch.device(\"cuda:1\" if torch.cuda.is_available() else \"cuda:0\" if torch.cuda.is_available() else \"cpu\")\n",
    "print('device',device)\n",
    "model_1 = model_1.to(device)\n",
    "\n",
    "########## TRAINING \n",
    "\n",
    "train_losses=[]\n",
    "valid_losses=[]\n",
    "\n",
    "for epoch in range(0,n_epochs_1):\n",
    "  train_loss=0.0\n",
    "  all_labels = []\n",
    "  all_predicted = []\n",
    "\n",
    "  for batch_idx, (imgs, labels) in enumerate(tqdm(train_loade_1)):\n",
    "\n",
    "    # pass the samples through the network\n",
    "    predict = model_1.forward(imgs.to(device))\n",
    "    # apply loss function\n",
    "    loss = criterion_1(predict, labels.to(device))\n",
    "    # set the gradients back to 0\n",
    "    optimizer_1.zero_grad()\n",
    "    # backpropagation\n",
    "    loss.backward()\n",
    "    # parameter update\n",
    "    optimizer_1.step()\n",
    "    # compute the train loss\n",
    "    train_loss += loss.item()\n",
    "    # store labels and class predictions\n",
    "    all_labels.extend(labels.tolist())\n",
    "    all_predicted.extend(vector_to_class(predict).tolist())\n",
    "\n",
    "    if epoch % 1 == 0:\n",
    "      torch.save(model_1.state_dict(), 'model_save/modele_epoch_{}.pth'.format(epoch))\n",
    "\n",
    "  print('Epoch:{} Train Loss:{:.4f}'.format(epoch,train_loss/len(train_loader_1.dataset)))\n",
    "\n",
    "  # calculate accuracy\n",
    "  print('Accuracy:{:.4f}'.format(cnn_accuracy(np.array(all_predicted),np.array(all_labels))))"
   ]
  },
  {
   "cell_type": "code",
   "execution_count": 14,
   "metadata": {},
   "outputs": [
    {
     "name": "stdout",
     "output_type": "stream",
     "text": [
      "Sequential(\n",
      "  (0): Conv2d(3, 32, kernel_size=(3, 3), stride=(1, 1), padding=same)\n",
      "  (1): ReLU()\n",
      "  (2): Conv2d(32, 32, kernel_size=(3, 3), stride=(1, 1), padding=same)\n",
      "  (3): ReLU()\n",
      "  (4): MaxPool2d(kernel_size=(2, 2), stride=(2, 2), padding=0, dilation=1, ceil_mode=False)\n",
      "  (5): Conv2d(32, 32, kernel_size=(3, 3), stride=(1, 1), padding=same)\n",
      "  (6): ReLU()\n",
      "  (7): MaxPool2d(kernel_size=(2, 2), stride=(2, 2), padding=0, dilation=1, ceil_mode=False)\n",
      "  (8): Conv2d(32, 32, kernel_size=(3, 3), stride=(1, 1), padding=same)\n",
      "  (9): ReLU()\n",
      "  (10): MaxPool2d(kernel_size=(2, 2), stride=(2, 2), padding=0, dilation=1, ceil_mode=False)\n",
      "  (11): Conv2d(32, 32, kernel_size=(3, 3), stride=(1, 1), padding=same)\n",
      "  (12): ReLU()\n",
      "  (13): MaxPool2d(kernel_size=(2, 2), stride=(2, 2), padding=0, dilation=1, ceil_mode=False)\n",
      "  (14): Conv2d(32, 32, kernel_size=(3, 3), stride=(1, 1), padding=same)\n",
      "  (15): ReLU()\n",
      "  (16): MaxPool2d(kernel_size=(2, 2), stride=(2, 2), padding=0, dilation=1, ceil_mode=False)\n",
      "  (17): Flatten(start_dim=1, end_dim=-1)\n",
      "  (18): Linear(in_features=2048, out_features=8, bias=True)\n",
      ")\n",
      "device cuda:1\n"
     ]
    }
   ],
   "source": [
    "#MODEL 2 (less of class 2)\n",
    "learning_rate_2 = 0.01\n",
    "n_epochs_2 = 25\n",
    "batch_size = 256\n",
    "nb_classes = 8\n",
    "\n",
    "nb_filters_2 = 32         # number of convolutional filters to use\n",
    "kernel_size = (3, 3)    # convolution kernel size\n",
    "pool_size = (2, 2)      # size of pooling area for max pooling\n",
    "\n",
    "# --- Size of the successive layers\n",
    "n_h_0 = nb_channels = 3 #3 channels for RGB\n",
    "n_h_1 = nb_filters_2\n",
    "n_h_2 = nb_filters_2\n",
    "n_h_3 = nb_filters_2\n",
    "n_h_4 = nb_filters_2\n",
    "n_h_5 = nb_filters_2\n",
    "n_h_6 = nb_filters_2\n",
    "\n",
    "\n",
    "model_2 = torch.nn.Sequential(nn.Conv2d(in_channels=n_h_0, out_channels=n_h_1, kernel_size=kernel_size, stride=(1, 1), padding='same'),\n",
    "                            nn.ReLU(),\n",
    "                            nn.Conv2d(in_channels=n_h_1, out_channels=n_h_2, kernel_size=kernel_size, stride=(1, 1), padding='same'),\n",
    "                            nn.ReLU(),\n",
    "                            nn.MaxPool2d(kernel_size = pool_size, stride= (2,2)),\n",
    "                            nn.Conv2d(in_channels=n_h_2, out_channels=n_h_3, kernel_size=kernel_size, stride=(1, 1), padding='same'),\n",
    "                            nn.ReLU(),\n",
    "                            nn.MaxPool2d(kernel_size = pool_size, stride= (2,2)),\n",
    "                            nn.Conv2d(in_channels=n_h_3, out_channels=n_h_4, kernel_size=kernel_size, stride=(1, 1), padding='same'),\n",
    "                            nn.ReLU(),\n",
    "                            nn.MaxPool2d(kernel_size = pool_size, stride= (2,2)),\n",
    "                            nn.Conv2d(in_channels=n_h_4, out_channels=n_h_5, kernel_size=kernel_size, stride=(1, 1), padding='same'),\n",
    "                            nn.ReLU(),\n",
    "                            nn.MaxPool2d(kernel_size = pool_size, stride= (2,2)),\n",
    "                            nn.Conv2d(in_channels=n_h_5, out_channels=n_h_6, kernel_size=kernel_size, stride=(1, 1), padding='same'),\n",
    "                            nn.ReLU(),\n",
    "                            nn.MaxPool2d(kernel_size = pool_size, stride= (2,2)),\n",
    "                            \n",
    "                            nn.Flatten(),\n",
    "                            nn.Linear(in_features = int(n_h_6 * 8* 8) , out_features = nb_classes))\n",
    "\n",
    "\n",
    "\n",
    "train_loader_2 = torch.utils.data.DataLoader(train_dataset_2, batch_size=batch_size, shuffle=True)\n",
    "criterion_2 = torch.nn.CrossEntropyLoss()\n",
    "optimizer_2 = torch.optim.Adam(model_2.parameters(), lr=learning_rate_2)\n",
    "\n",
    "#print model summary\n",
    "print(model_2)\n",
    "\n",
    "\n",
    "device = torch.device(\"cuda:1\" if torch.cuda.is_available() else \"cuda:0\" if torch.cuda.is_available() else \"cpu\")\n",
    "print('device',device)\n",
    "model_2 = model_2.to(device)\n",
    "\n",
    "########## TRAINING \n",
    "\n",
    "train_losses=[]\n",
    "valid_losses=[]\n",
    "\n",
    "for epoch in range(0,n_epochs_1):\n",
    "  train_loss=0.0\n",
    "  all_labels = []\n",
    "  all_predicted = []\n",
    "\n",
    "  for batch_idx, (imgs, labels) in enumerate(tqdm(train_loader_2)):\n",
    "\n",
    "    # pass the samples through the network\n",
    "    predict = model_2.forward(imgs.to(device))\n",
    "    # apply loss function\n",
    "    loss = criterion_2(predict, labels.to(device))\n",
    "    # set the gradients back to 0\n",
    "    optimizer_2.zero_grad()\n",
    "    # backpropagation\n",
    "    loss.backward()\n",
    "    # parameter update\n",
    "    optimizer_2.step()\n",
    "    # compute the train loss\n",
    "    train_loss += loss.item()\n",
    "    # store labels and class predictions\n",
    "    all_labels.extend(labels.tolist())\n",
    "    all_predicted.extend(vector_to_class(predict).tolist())\n",
    "\n",
    "    if epoch % 1 == 0:\n",
    "      torch.save(model_2.state_dict(), 'model_save/modele_epoch_{}.pth'.format(epoch))\n",
    "\n",
    "  print('Epoch:{} Train Loss:{:.4f}'.format(epoch,train_loss/len(train_loader_2.dataset)))\n",
    "\n",
    "  # calculate accuracy\n",
    "  print('Accuracy:{:.4f}'.format(cnn_accuracy(np.array(all_predicted),np.array(all_labels))))"
   ]
  },
  {
   "cell_type": "code",
   "execution_count": 15,
   "metadata": {},
   "outputs": [],
   "source": [
    "#MODEL 3 (less of class 2)\n",
    "learning_rate_3 = 0.01\n",
    "n_epochs_3 = 15\n",
    "batch_size = 256\n",
    "nb_classes = 8\n",
    "\n",
    "nb_filters_3 = 16         # number of convolutional filters to use\n",
    "kernel_size = (3, 3)    # convolution kernel size\n",
    "pool_size = (2, 2)      # size of pooling area for max pooling\n",
    "\n",
    "# --- Size of the successive layers\n",
    "n_h_0 = nb_channels = 3 #3 channels for RGB\n",
    "n_h_1 = nb_filters_3\n",
    "n_h_2 = nb_filters_3\n",
    "n_h_3 = nb_filters_3\n",
    "n_h_4 = nb_filters_3\n",
    "n_h_5 = nb_filters_3\n",
    "n_h_6 = nb_filters_3\n",
    "\n",
    "\n",
    "model_3 = torch.nn.Sequential(nn.Conv2d(in_channels=n_h_0, out_channels=n_h_1, kernel_size=kernel_size, stride=(1, 1), padding='same'),\n",
    "                            nn.ReLU(),\n",
    "                            nn.Conv2d(in_channels=n_h_1, out_channels=n_h_2, kernel_size=kernel_size, stride=(1, 1), padding='same'),\n",
    "                            nn.ReLU(),\n",
    "                            nn.MaxPool2d(kernel_size = pool_size, stride= (2,2)),\n",
    "                            nn.Conv2d(in_channels=n_h_2, out_channels=n_h_3, kernel_size=kernel_size, stride=(1, 1), padding='same'),\n",
    "                            nn.ReLU(),\n",
    "                            nn.MaxPool2d(kernel_size = pool_size, stride= (2,2)),\n",
    "                            nn.Conv2d(in_channels=n_h_3, out_channels=n_h_4, kernel_size=kernel_size, stride=(1, 1), padding='same'),\n",
    "                            nn.ReLU(),\n",
    "                            nn.MaxPool2d(kernel_size = pool_size, stride= (2,2)),\n",
    "                            nn.Conv2d(in_channels=n_h_4, out_channels=n_h_5, kernel_size=kernel_size, stride=(1, 1), padding='same'),\n",
    "                            nn.ReLU(),\n",
    "                            nn.MaxPool2d(kernel_size = pool_size, stride= (2,2)),\n",
    "                            nn.Conv2d(in_channels=n_h_5, out_channels=n_h_6, kernel_size=kernel_size, stride=(1, 1), padding='same'),\n",
    "                            nn.ReLU(),\n",
    "                            nn.MaxPool2d(kernel_size = pool_size, stride= (2,2)),\n",
    "                            \n",
    "                            nn.Flatten(),\n",
    "                            nn.Linear(in_features = int(n_h_6 * 8* 8) , out_features = nb_classes))\n",
    "\n",
    "\n",
    "\n",
    "train_loader_3 = torch.utils.data.DataLoader(train_dataset_3, batch_size=batch_size, shuffle=True)\n",
    "criterion_3 = torch.nn.CrossEntropyLoss()\n",
    "optimizer_3 = torch.optim.Adam(model_3.parameters(), lr=learning_rate_3)\n",
    "\n",
    "#print model summary\n",
    "print(model_3)\n",
    "\n",
    "\n",
    "device = torch.device(\"cuda:1\" if torch.cuda.is_available() else \"cuda:0\" if torch.cuda.is_available() else \"cpu\")\n",
    "print('device',device)\n",
    "model_3 = model_3.to(device)\n",
    "\n",
    "########## TRAINING \n",
    "\n",
    "train_losses=[]\n",
    "valid_losses=[]\n",
    "\n",
    "for epoch in range(0,n_epochs_1):\n",
    "  train_loss=0.0\n",
    "  all_labels = []\n",
    "  all_predicted = []\n",
    "\n",
    "  for batch_idx, (imgs, labels) in enumerate(tqdm(train_loader_3)):\n",
    "\n",
    "    # pass the samples through the network\n",
    "    predict = model_3.forward(imgs.to(device))\n",
    "    # apply loss function\n",
    "    loss = criterion_3(predict, labels.to(device))\n",
    "    # set the gradients back to 0\n",
    "    optimizer_3.zero_grad()\n",
    "    # backpropagation\n",
    "    loss.backward()\n",
    "    # parameter update\n",
    "    optimizer_3.step()\n",
    "    # compute the train loss\n",
    "    train_loss += loss.item()\n",
    "    # store labels and class predictions\n",
    "    all_labels.extend(labels.tolist())\n",
    "    all_predicted.extend(vector_to_class(predict).tolist())\n",
    "\n",
    "    if epoch % 1 == 0:\n",
    "      torch.save(model_3.state_dict(), 'model_3_save/modele_epoch_{}.pth'.format(epoch))\n",
    "\n",
    "  print('Epoch:{} Train Loss:{:.4f}'.format(epoch,train_loss/len(train_loader_3.dataset)))\n",
    "\n",
    "  # calculate accuracy\n",
    "  print('Accuracy:{:.4f}'.format(cnn_accuracy(np.array(all_predicted),np.array(all_labels))))"
   ]
  },
  {
   "cell_type": "code",
   "execution_count": null,
   "metadata": {},
   "outputs": [
    {
     "name": "stderr",
     "output_type": "stream",
     "text": [
      "  3%|▎         | 2/60 [01:11<34:19, 35.50s/it]\n"
     ]
    },
    {
     "ename": "KeyboardInterrupt",
     "evalue": "",
     "output_type": "error",
     "traceback": [
      "\u001b[0;31m---------------------------------------------------------------------------\u001b[0m",
      "\u001b[0;31mKeyboardInterrupt\u001b[0m                         Traceback (most recent call last)",
      "Cell \u001b[0;32mIn[15], line 18\u001b[0m\n\u001b[1;32m     16\u001b[0m optimizer\u001b[38;5;241m.\u001b[39mzero_grad()\n\u001b[1;32m     17\u001b[0m \u001b[38;5;66;03m# backpropagation\u001b[39;00m\n\u001b[0;32m---> 18\u001b[0m loss\u001b[38;5;241m.\u001b[39mbackward()\n\u001b[1;32m     19\u001b[0m \u001b[38;5;66;03m# parameter update\u001b[39;00m\n\u001b[1;32m     20\u001b[0m optimizer\u001b[38;5;241m.\u001b[39mstep()\n",
      "File \u001b[0;32m~/anaconda3/lib/python3.11/site-packages/torch/_tensor.py:522\u001b[0m, in \u001b[0;36mTensor.backward\u001b[0;34m(self, gradient, retain_graph, create_graph, inputs)\u001b[0m\n\u001b[1;32m    512\u001b[0m \u001b[38;5;28;01mif\u001b[39;00m has_torch_function_unary(\u001b[38;5;28mself\u001b[39m):\n\u001b[1;32m    513\u001b[0m     \u001b[38;5;28;01mreturn\u001b[39;00m handle_torch_function(\n\u001b[1;32m    514\u001b[0m         Tensor\u001b[38;5;241m.\u001b[39mbackward,\n\u001b[1;32m    515\u001b[0m         (\u001b[38;5;28mself\u001b[39m,),\n\u001b[0;32m   (...)\u001b[0m\n\u001b[1;32m    520\u001b[0m         inputs\u001b[38;5;241m=\u001b[39minputs,\n\u001b[1;32m    521\u001b[0m     )\n\u001b[0;32m--> 522\u001b[0m torch\u001b[38;5;241m.\u001b[39mautograd\u001b[38;5;241m.\u001b[39mbackward(\n\u001b[1;32m    523\u001b[0m     \u001b[38;5;28mself\u001b[39m, gradient, retain_graph, create_graph, inputs\u001b[38;5;241m=\u001b[39minputs\n\u001b[1;32m    524\u001b[0m )\n",
      "File \u001b[0;32m~/anaconda3/lib/python3.11/site-packages/torch/autograd/__init__.py:266\u001b[0m, in \u001b[0;36mbackward\u001b[0;34m(tensors, grad_tensors, retain_graph, create_graph, grad_variables, inputs)\u001b[0m\n\u001b[1;32m    261\u001b[0m     retain_graph \u001b[38;5;241m=\u001b[39m create_graph\n\u001b[1;32m    263\u001b[0m \u001b[38;5;66;03m# The reason we repeat the same comment below is that\u001b[39;00m\n\u001b[1;32m    264\u001b[0m \u001b[38;5;66;03m# some Python versions print out the first line of a multi-line function\u001b[39;00m\n\u001b[1;32m    265\u001b[0m \u001b[38;5;66;03m# calls in the traceback and some print out the last line\u001b[39;00m\n\u001b[0;32m--> 266\u001b[0m Variable\u001b[38;5;241m.\u001b[39m_execution_engine\u001b[38;5;241m.\u001b[39mrun_backward(  \u001b[38;5;66;03m# Calls into the C++ engine to run the backward pass\u001b[39;00m\n\u001b[1;32m    267\u001b[0m     tensors,\n\u001b[1;32m    268\u001b[0m     grad_tensors_,\n\u001b[1;32m    269\u001b[0m     retain_graph,\n\u001b[1;32m    270\u001b[0m     create_graph,\n\u001b[1;32m    271\u001b[0m     inputs,\n\u001b[1;32m    272\u001b[0m     allow_unreachable\u001b[38;5;241m=\u001b[39m\u001b[38;5;28;01mTrue\u001b[39;00m,\n\u001b[1;32m    273\u001b[0m     accumulate_grad\u001b[38;5;241m=\u001b[39m\u001b[38;5;28;01mTrue\u001b[39;00m,\n\u001b[1;32m    274\u001b[0m )\n",
      "\u001b[0;31mKeyboardInterrupt\u001b[0m: "
     ]
    }
   ],
   "source": []
  },
  {
   "cell_type": "markdown",
   "metadata": {},
   "source": [
    "### Heatmap"
   ]
  },
  {
   "cell_type": "code",
   "execution_count": null,
   "metadata": {},
   "outputs": [
    {
     "name": "stdout",
     "output_type": "stream",
     "text": [
      "device cpu\n"
     ]
    },
    {
     "ename": "",
     "evalue": "",
     "output_type": "error",
     "traceback": [
      "\u001b[1;31mLe noyau s’est bloqué lors de l’exécution du code dans une cellule active ou une cellule précédente. \n",
      "\u001b[1;31mVeuillez vérifier le code dans la ou les cellules pour identifier une cause possible de l’échec. \n",
      "\u001b[1;31mCliquez <a href='https://aka.ms/vscodeJupyterKernelCrash'>ici</a> pour plus d’informations. \n",
      "\u001b[1;31mPour plus d’informations, consultez Jupyter <a href='command:jupyter.viewOutput'>log</a>."
     ]
    }
   ],
   "source": [
    "from sklearn.metrics import confusion_matrix\n",
    "import seaborn as sns\n",
    "\n",
    "\n",
    "# Predict the classes for the validation set\n",
    "\n",
    "# Définir les transformations\n",
    "transform = transforms.Compose([\n",
    "    transforms.ToPILImage(),\n",
    "    transforms.RandomHorizontalFlip(),\n",
    "    transforms.RandomVerticalFlip(),\n",
    "    transforms.ToTensor(),\n",
    "    transforms.Normalize((0.5, 0.5, 0.5), (0.5, 0.5, 0.5))\n",
    "])\n",
    "\n",
    "# Appliquer les transformations à X_val\n",
    "X_val_transformed = [transform(img) for img in X_val]\n",
    "X_val_transformed = torch.stack(X_val_transformed)\n",
    "\n",
    "#load the model\n",
    "model.load_state_dict(torch.load('model_save/modele_epoch_24.pth',map_location=torch.device('cpu')))\n",
    "#device = torch.device(\"cuda:2\" if torch.cuda.is_available() else \"cpu\")\n",
    "device = torch.device(\"cuda:1\" if torch.cuda.is_available() else \"cuda:0\" if torch.cuda.is_available() else \"cpu\")\n",
    "print('device',device)\n",
    "model = model.to(device)\n",
    "\n",
    "\n",
    "# Prédire les classes pour le jeu de validation\n",
    "y_pred = model(X_val_transformed.to(device))\n",
    "y_pred = torch.argmax(y_pred, dim=1)\n",
    "y_pred = y_pred.numpy()\n",
    "\n",
    "print(y_pred)\n",
    "\n",
    "# Create a confusion matrix\n",
    "cm = confusion_matrix(y_val, y_pred)\n",
    "\n",
    "# Create a heatmap from the confusion matrix\n",
    "sns.heatmap(cm, annot=True, fmt=\"d\", cmap='Blues')\n",
    "\n",
    "# Labels, title and ticks\n",
    "plt.xlabel('Predicted')\n",
    "plt.ylabel('True')\n",
    "plt.title('Confusion Matrix')\n",
    "plt.xticks(range(8))\n",
    "plt.yticks(range(8))\n",
    "\n",
    "# Add class names to the x and y axis labels\n",
    "class_names = ['class_0', 'class_1', 'class_2', 'class_3', 'class_4', 'class_5', 'class_6', 'class_7'] # replace with your class names\n",
    "plt.xticks(range(8), class_names, rotation=45)\n",
    "plt.yticks(range(8), class_names)\n",
    "\n",
    "plt.show()\n"
   ]
  },
  {
   "cell_type": "code",
   "execution_count": null,
   "metadata": {},
   "outputs": [
    {
     "data": {
      "image/png": "[encoded data removed]",
      "text/plain": [
       "<Figure size 800x800 with 64 Axes>"
      ]
     },
     "metadata": {},
     "output_type": "display_data"
    }
   ],
   "source": [
    "\n",
    "# Extraire les poids des filtres de la première couche de convolution\n",
    "filters = model[0].weight.data.cpu().numpy()\n",
    "\n",
    "# Calculer le nombre de filtres dans la première couche de convolution\n",
    "num_filters = filters.shape[0]\n",
    "\n",
    "# Créer une grille de sous-tracés pour afficher les filtres\n",
    "fig, axs = plt.subplots(nrows=8, ncols=8, figsize=(8, 8))\n",
    "\n",
    "# Parcourir tous les filtres et les afficher dans la grille de sous-tracés\n",
    "for i in range(num_filters):\n",
    "    ax = axs[i // 8, i % 8]\n",
    "    ax.imshow(filters[i, 0, :, :], cmap='gray')\n",
    "    ax.axis('off')\n",
    "\n",
    "plt.show()\n"
   ]
  },
  {
   "cell_type": "code",
   "execution_count": null,
   "metadata": {},
   "outputs": [],
   "source": [
    "def image_vanilla_backprop(input_image, model, target_class):\n",
    "    # Charger le modèle\n",
    "    model = model.eval() # passer en mode évaluation\n",
    "\n",
    "    # Définir l'image d'entrée\n",
    "\n",
    "    #[batch_size, num_channels, height, width]\n",
    "    input_tensor = torch.unsqueeze(torch.tensor(input_image), 0).permute(0, 3, 1, 2).float()\n",
    "\n",
    "    # Définir la classe cible\n",
    "    target_class = 1 # la classe cible\n",
    "\n",
    "    # Créer une instance de VanillaBackprop\n",
    "    vanilla_backprop = vb.VanillaBackprop(model)\n",
    "\n",
    "    # Calculer les gradients avec Vanilla Backpropagation\n",
    "    gradients = vanilla_backprop.generate_gradients(input_tensor, target_class)\n",
    "\n",
    "    # Convertir les gradients en masque de pertinence\n",
    "    masque = np.abs(gradients)\n",
    "    masque = masque / np.max(masque) # normaliser entre 0 et 1\n",
    "\n",
    "    # Afficher le masque de pertinence\n",
    "    heatmap = masque.mean(axis=0)\n",
    "\n",
    "    return heatmap\n",
    "\n",
    "def plot_vanilla_backprop(liste_images,model):\n",
    "    target_classes = [0,1,2,3,4,5,6,7]\n",
    "    # Create subplots for heatmaps\n",
    "    fig, axs = plt.subplots(len(liste_images), len(target_classes), figsize=(15, 10))\n",
    "\n",
    "    # Iterate over images\n",
    "    for i, image in enumerate(liste_images):\n",
    "        # Iterate over target classes\n",
    "        for j, target_class in enumerate(target_classes):\n",
    "            # Compute heatmap for the image and target class\n",
    "            heatmap = image_vanilla_backprop(image, model, target_class)\n",
    "            \n",
    "            # Display heatmap\n",
    "            axs[i, j].imshow(heatmap, cmap='hot')\n",
    "            axs[i, j].set_title(f'Target Class: {target_class}')\n",
    "            axs[i, j].axis('off')\n",
    "\n",
    "    # Display target classes in a row\n",
    "    fig, ax = plt.subplots(1, len(target_classes), figsize=(15, 2))\n",
    "    for j, target_class in enumerate(target_classes):\n",
    "        ax[j].imshow(target_class_image)  # Replace with your own target class image\n",
    "        ax[j].set_title(f'Target Class: {target_class}')\n",
    "        ax[j].axis('off')\n",
    "\n",
    "    plt.show()\n",
    "    \n",
    "\n"
   ]
  },
  {
   "cell_type": "code",
   "execution_count": null,
   "metadata": {},
   "outputs": [],
   "source": [
    "plot_vanilla_backprop(X_train[:5],model)"
   ]
  },
  {
   "cell_type": "code",
   "execution_count": null,
   "metadata": {},
   "outputs": [
    {
     "ename": "error",
     "evalue": "OpenCV(4.8.1) /Users/xperience/GHA-OpenCV-Python/_work/opencv-python/opencv-python/opencv/modules/imgproc/src/colormap.cpp:736: error: (-5:Bad argument) cv::ColorMap only supports source images of type CV_8UC1 or CV_8UC3 in function 'operator()'\n",
     "output_type": "error",
     "traceback": [
      "\u001b[0;31m---------------------------------------------------------------------------\u001b[0m",
      "\u001b[0;31merror\u001b[0m                                     Traceback (most recent call last)",
      "Cell \u001b[0;32mIn[24], line 40\u001b[0m\n\u001b[1;32m     37\u001b[0m grayscale_cam \u001b[38;5;241m=\u001b[39m torch\u001b[38;5;241m.\u001b[39mfrom_numpy(grayscale_cam)\u001b[38;5;241m.\u001b[39mtype(torch\u001b[38;5;241m.\u001b[39muint8)\u001b[38;5;241m.\u001b[39munsqueeze(\u001b[38;5;241m0\u001b[39m)\u001b[38;5;241m.\u001b[39munsqueeze(\u001b[38;5;241m0\u001b[39m)\u001b[38;5;241m.\u001b[39mto(device)\n\u001b[1;32m     39\u001b[0m \u001b[38;5;66;03m# Visualiser la carte de chaleur de grad-CAM superposée à l'image d'origine\u001b[39;00m\n\u001b[0;32m---> 40\u001b[0m visualization \u001b[38;5;241m=\u001b[39m visualize_cam(img_tensor, grayscale_cam)\n\u001b[1;32m     42\u001b[0m \u001b[38;5;66;03m# Afficher l'image\u001b[39;00m\n\u001b[1;32m     43\u001b[0m plt\u001b[38;5;241m.\u001b[39mimshow(visualization\u001b[38;5;241m.\u001b[39mcpu()\u001b[38;5;241m.\u001b[39mnumpy()\u001b[38;5;241m.\u001b[39mtranspose(\u001b[38;5;241m1\u001b[39m, \u001b[38;5;241m2\u001b[39m, \u001b[38;5;241m0\u001b[39m))\n",
      "File \u001b[0;32m~/anaconda3/lib/python3.11/site-packages/gradcam/utils.py:26\u001b[0m, in \u001b[0;36mvisualize_cam\u001b[0;34m(mask, img, alpha)\u001b[0m\n\u001b[1;32m     16\u001b[0m \u001b[38;5;250m\u001b[39m\u001b[38;5;124;03m\"\"\"Make heatmap from mask and synthesize GradCAM result image using heatmap and img.\u001b[39;00m\n\u001b[1;32m     17\u001b[0m \u001b[38;5;124;03mArgs:\u001b[39;00m\n\u001b[1;32m     18\u001b[0m \u001b[38;5;124;03m    mask (torch.tensor): mask shape of (1, 1, H, W) and each element has value in range [0, 1]\u001b[39;00m\n\u001b[0;32m   (...)\u001b[0m\n\u001b[1;32m     23\u001b[0m \u001b[38;5;124;03m    result (torch.tensor): synthesized GradCAM result of same shape with heatmap.\u001b[39;00m\n\u001b[1;32m     24\u001b[0m \u001b[38;5;124;03m\"\"\"\u001b[39;00m\n\u001b[1;32m     25\u001b[0m heatmap \u001b[38;5;241m=\u001b[39m (\u001b[38;5;241m255\u001b[39m \u001b[38;5;241m*\u001b[39m mask\u001b[38;5;241m.\u001b[39msqueeze())\u001b[38;5;241m.\u001b[39mtype(torch\u001b[38;5;241m.\u001b[39muint8)\u001b[38;5;241m.\u001b[39mcpu()\u001b[38;5;241m.\u001b[39mnumpy()\n\u001b[0;32m---> 26\u001b[0m heatmap \u001b[38;5;241m=\u001b[39m cv2\u001b[38;5;241m.\u001b[39mapplyColorMap(heatmap, cv2\u001b[38;5;241m.\u001b[39mCOLORMAP_JET)\n\u001b[1;32m     27\u001b[0m heatmap \u001b[38;5;241m=\u001b[39m torch\u001b[38;5;241m.\u001b[39mfrom_numpy(heatmap)\u001b[38;5;241m.\u001b[39mpermute(\u001b[38;5;241m2\u001b[39m, \u001b[38;5;241m0\u001b[39m, \u001b[38;5;241m1\u001b[39m)\u001b[38;5;241m.\u001b[39mfloat()\u001b[38;5;241m.\u001b[39mdiv(\u001b[38;5;241m255\u001b[39m)\n\u001b[1;32m     28\u001b[0m b, g, r \u001b[38;5;241m=\u001b[39m heatmap\u001b[38;5;241m.\u001b[39msplit(\u001b[38;5;241m1\u001b[39m)\n",
      "\u001b[0;31merror\u001b[0m: OpenCV(4.8.1) /Users/xperience/GHA-OpenCV-Python/_work/opencv-python/opencv-python/opencv/modules/imgproc/src/colormap.cpp:736: error: (-5:Bad argument) cv::ColorMap only supports source images of type CV_8UC1 or CV_8UC3 in function 'operator()'\n"
     ]
    }
   ],
   "source": [
    "import torch\n",
    "import torchvision.transforms as transforms\n",
    "import matplotlib.pyplot as plt\n",
    "import torchvision.models as models\n",
    "from gradcam import GradCAM\n",
    "from gradcam.utils import visualize_cam\n",
    "from PIL import Image\n",
    "\n",
    "# Charger une image à visualiser\n",
    "img = Image.open('output_masks_train_set_1/ISIC_0000000.jpg_pred_mask.png')\n",
    "\n",
    "# Transformer l'image en tenseur et l'ajouter à un lot\n",
    "transform = transforms.Compose([\n",
    "    transforms.ToTensor(),\n",
    "    transforms.Normalize(mean=[0.485, 0.456, 0.406], std=[0.229, 0.224, 0.225]),  # Modifiez les moyennes et écarts-types en fonction de votre jeu de données\n",
    "])\n",
    "img_tensor = transform(img).unsqueeze(0).to(device)\n",
    "\n",
    "# Définir la classe cible pour la visualisation\n",
    "target_class = 3  # Remplacez par la classe cible souhaitée\n",
    "\n",
    "# Créer un objet GradCAM pour la dernière couche de convolution du modèle\n",
    "cam = GradCAM(model,model[-5])\n",
    "\n",
    "# Calculer la carte de chaleur de grad-CAM pour la classe cible\n",
    "with torch.no_grad():\n",
    "    output = model(img_tensor)\n",
    "    target_logits = output[:, target_class]\n",
    "    target_logits = target_logits.long()\n",
    "grayscale_cam = cam(img_tensor,target_logits)\n",
    "grayscale_cam = grayscale_cam.squeeze().type(torch.uint8)\n",
    "# Visualiser la carte de chaleur de grad-CAM superposée à l'image d'origine\n",
    "visualization = visualize_cam(img_tensor, grayscale_cam)\n",
    "\n",
    "# Afficher l'image\n",
    "plt.imshow(visualization.cpu().numpy().transpose(1, 2, 0))\n",
    "plt.show()\n"
   ]
  },
  {
   "cell_type": "markdown",
   "metadata": {},
   "source": [
    "## Préparation de la detection"
   ]
  },
  {
   "cell_type": "markdown",
   "metadata": {},
   "source": [
    "### Prepare data for predicting the test set"
   ]
  },
  {
   "cell_type": "code",
   "execution_count": null,
   "metadata": {},
   "outputs": [
    {
     "ename": "",
     "evalue": "",
     "output_type": "error",
     "traceback": [
      "\u001b[1;31mLes cellules en cours d’exécution avec Python 3.9.18 nécessitent le package ipykernel.\n",
      "\u001b[1;31mExécutez la commande suivante pour installer 'ipykernel' dans l’environnement Python. \n",
      "\u001b[1;31mCommande : '/usr/bin/python3.9 -m pip install ipykernel -U --user --force-reinstall'"
     ]
    }
   ],
   "source": [
    "X_test = glob.glob('output_masks_test_set/*.png')\n",
    "X_test_names = [os.path.basename(x).split('.jpg_pred_mask.png')[0] for x in X_test]\n",
    "\n",
    "X_test = [io.imread(x) for x in X_test]\n",
    "X_test = np.array(X_test)\n",
    "print(X_test.shape)"
   ]
  },
  {
   "cell_type": "code",
   "execution_count": null,
   "metadata": {},
   "outputs": [
    {
     "ename": "",
     "evalue": "",
     "output_type": "error",
     "traceback": [
      "\u001b[1;31mLes cellules en cours d’exécution avec Python 3.9.18 nécessitent le package ipykernel.\n",
      "\u001b[1;31mExécutez la commande suivante pour installer 'ipykernel' dans l’environnement Python. \n",
      "\u001b[1;31mCommande : '/usr/bin/python3.9 -m pip install ipykernel -U --user --force-reinstall'"
     ]
    }
   ],
   "source": [
    "predicted_classes = model.predict(X_test)"
   ]
  },
  {
   "cell_type": "code",
   "execution_count": null,
   "metadata": {},
   "outputs": [
    {
     "ename": "",
     "evalue": "",
     "output_type": "error",
     "traceback": [
      "\u001b[1;31mLes cellules en cours d’exécution avec Python 3.9.18 nécessitent le package ipykernel.\n",
      "\u001b[1;31mExécutez la commande suivante pour installer 'ipykernel' dans l’environnement Python. \n",
      "\u001b[1;31mCommande : '/usr/bin/python3.9 -m pip install ipykernel -U --user --force-reinstall'"
     ]
    }
   ],
   "source": [
    "print(predicted_classes.shape)\n",
    "print(predicted_classes)\n",
    "\n",
    "predicted_classes_final = [np.argmax(predicted_classes[i]) for i in range(0, len(predicted_classes))]\n",
    "\n",
    "print(predicted_classes_final)"
   ]
  },
  {
   "cell_type": "markdown",
   "metadata": {},
   "source": [
    "Ecrire les résultats predicted class dans un fichier csv de 2 colonnes avec 1 colonne avec le nom correspondant à la classe et 1 colonne correspondant à la classe prédite. Le séparateur est une virgule"
   ]
  },
  {
   "cell_type": "code",
   "execution_count": null,
   "metadata": {},
   "outputs": [
    {
     "ename": "",
     "evalue": "",
     "output_type": "error",
     "traceback": [
      "\u001b[1;31mLes cellules en cours d’exécution avec Python 3.9.18 nécessitent le package ipykernel.\n",
      "\u001b[1;31mExécutez la commande suivante pour installer 'ipykernel' dans l’environnement Python. \n",
      "\u001b[1;31mCommande : '/usr/bin/python3.9 -m pip install ipykernel -U --user --force-reinstall'"
     ]
    }
   ],
   "source": [
    "# Open the CSV file for writing\n",
    "with open('SampleSubmission2.csv', 'w', newline='') as csvfile:\n",
    "    writer = csv.writer(csvfile)\n",
    "    # Write the header row\n",
    "    writer.writerow(['ID', 'CLASS'])\n",
    "\n",
    "    # Write the predicted classes and image filenames to the CSV file\n",
    "    for i in range(len(predicted_classes)):\n",
    "        writer.writerow([X_test_names[i], predicted_classes_final[i]])"
   ]
  },
  {
   "cell_type": "code",
   "execution_count": null,
   "metadata": {},
   "outputs": [
    {
     "ename": "",
     "evalue": "",
     "output_type": "error",
     "traceback": [
      "\u001b[1;31mLes cellules en cours d’exécution avec Python 3.9.18 nécessitent le package ipykernel.\n",
      "\u001b[1;31mExécutez la commande suivante pour installer 'ipykernel' dans l’environnement Python. \n",
      "\u001b[1;31mCommande : '/usr/bin/python3.9 -m pip install ipykernel -U --user --force-reinstall'"
     ]
    }
   ],
   "source": []
  }
 ],
 "metadata": {
  "kernelspec": {
   "display_name": "base",
   "language": "python",
   "name": "python3"
  },
  "language_info": {
   "codemirror_mode": {
    "name": "ipython",
    "version": 3
   },
   "file_extension": ".py",
   "mimetype": "text/x-python",
   "name": "python",
   "nbconvert_exporter": "python",
   "pygments_lexer": "ipython3",
   "version": "3.10.12"
  }
 },
 "nbformat": 4,
 "nbformat_minor": 2
}
